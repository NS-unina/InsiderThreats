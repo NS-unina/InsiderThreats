{
 "cells": [
  {
   "cell_type": "code",
   "execution_count": 15,
   "id": "3d605733",
   "metadata": {},
   "outputs": [
    {
     "data": {
      "image/png": "[encoded data removed]",
      "text/plain": [
       "<Figure size 432x288 with 1 Axes>"
      ]
     },
     "metadata": {
      "needs_background": "light"
     },
     "output_type": "display_data"
    },
    {
     "data": {
      "text/plain": [
       "<Figure size 432x288 with 0 Axes>"
      ]
     },
     "metadata": {},
     "output_type": "display_data"
    }
   ],
   "source": [
    "import csv\n",
    "import matplotlib.pyplot as plt\n",
    "from matplotlib import ticker\n",
    "from model import *\n",
    "from risk import *\n",
    "from operator import itemgetter\n",
    "\n",
    "result = []\n",
    "bestResult = {}\n",
    "\n",
    "def getScCombination(row):\n",
    "    return row[0]\n",
    "\n",
    "def getPerformance(row):\n",
    "    return row[1]\n",
    "\n",
    "def getRisk(row):\n",
    "    return row[2]\n",
    "\n",
    "def getCost(row):\n",
    "    return row[3]\n",
    "\n",
    "with open('result.csv', 'r') as file:\n",
    "    reader = csv.reader(file)\n",
    "    next(file)\n",
    "    for row in reader:\n",
    "        result.append([int(getScCombination(row)), float(getPerformance(row)), float(getRisk(row)), float(getCost(row))])\n",
    "        #print(row)\n",
    "        \n",
    "#result = sorted(result, key=itemgetter(2))\n",
    "\n",
    "for row in result:\n",
    "    if float(getCost(row)) in bestResult:\n",
    "        if bestResult[getCost(row)] > getRisk(row):\n",
    "            bestResult[getCost(row)] = getRisk(row)\n",
    "    else:\n",
    "        bestResult[getCost(row)] = getRisk(row)\n",
    "\n",
    "\n",
    "bestResult = dict(sorted(bestResult.items()))        \n",
    "        \n",
    "xValue = bestResult.keys()\n",
    "yValue = list(bestResult.values())\n",
    "\n",
    "#print(yValue)\n",
    "\n",
    "plt.plot(xValue, yValue,'o',markersize=1)\n",
    "plt.show()\n",
    "plt.savefig('result.png')"
   ]
  }
 ],
 "metadata": {
  "kernelspec": {
   "display_name": "Python 3 (ipykernel)",
   "language": "python",
   "name": "python3"
  },
  "language_info": {
   "codemirror_mode": {
    "name": "ipython",
    "version": 3
   },
   "file_extension": ".py",
   "mimetype": "text/x-python",
   "name": "python",
   "nbconvert_exporter": "python",
   "pygments_lexer": "ipython3",
   "version": "3.8.10"
  }
 },
 "nbformat": 4,
 "nbformat_minor": 5
}
