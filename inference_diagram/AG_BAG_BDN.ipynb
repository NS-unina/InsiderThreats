{
 "cells": [
  {
   "cell_type": "code",
   "execution_count": 81,
   "metadata": {
    "colab": {
     "base_uri": "https://localhost:8080/"
    },
    "executionInfo": {
     "elapsed": 5208,
     "status": "ok",
     "timestamp": 1649880389004,
     "user": {
      "displayName": "Gaetano Perrone",
      "userId": "04518690982825853831"
     },
     "user_tz": -120
    },
    "id": "eQi19XFCPwqq",
    "outputId": "a1427535-77cf-4afb-ecd0-457b58ba17b9"
   },
   "outputs": [
    {
     "name": "stdout",
     "output_type": "stream",
     "text": [
      "\u001b[33mDEPRECATION: Configuring installation scheme with distutils config files is deprecated and will no longer work in the near future. If you are using a Homebrew or Linuxbrew Python, please see discussion at https://github.com/Homebrew/homebrew-core/issues/76621\u001b[0m\u001b[33m\n",
      "\u001b[0mRequirement already satisfied: pyagrum in /opt/homebrew/lib/python3.9/site-packages (0.22.9)\n",
      "Requirement already satisfied: numpy in /opt/homebrew/lib/python3.9/site-packages (from pyagrum) (1.22.3)\n",
      "Requirement already satisfied: matplotlib in /opt/homebrew/lib/python3.9/site-packages (from pyagrum) (3.5.1)\n",
      "Requirement already satisfied: pydot in /opt/homebrew/lib/python3.9/site-packages (from pyagrum) (1.4.2)\n",
      "Requirement already satisfied: cycler>=0.10 in /opt/homebrew/lib/python3.9/site-packages (from matplotlib->pyagrum) (0.11.0)\n",
      "Requirement already satisfied: fonttools>=4.22.0 in /opt/homebrew/lib/python3.9/site-packages (from matplotlib->pyagrum) (4.32.0)\n",
      "Requirement already satisfied: pyparsing>=2.2.1 in /opt/homebrew/lib/python3.9/site-packages (from matplotlib->pyagrum) (3.0.8)\n",
      "Requirement already satisfied: pillow>=6.2.0 in /opt/homebrew/lib/python3.9/site-packages (from matplotlib->pyagrum) (9.1.0)\n",
      "Requirement already satisfied: packaging>=20.0 in /opt/homebrew/lib/python3.9/site-packages (from matplotlib->pyagrum) (21.3)\n",
      "Requirement already satisfied: kiwisolver>=1.0.1 in /opt/homebrew/lib/python3.9/site-packages (from matplotlib->pyagrum) (1.4.2)\n",
      "Requirement already satisfied: python-dateutil>=2.7 in /opt/homebrew/lib/python3.9/site-packages (from matplotlib->pyagrum) (2.8.2)\n",
      "Requirement already satisfied: six>=1.5 in /opt/homebrew/lib/python3.9/site-packages (from python-dateutil>=2.7->matplotlib->pyagrum) (1.16.0)\n",
      "\u001b[33mDEPRECATION: Configuring installation scheme with distutils config files is deprecated and will no longer work in the near future. If you are using a Homebrew or Linuxbrew Python, please see discussion at https://github.com/Homebrew/homebrew-core/issues/76621\u001b[0m\u001b[33m\n",
      "\u001b[0mNote: you may need to restart the kernel to use updated packages.\n"
     ]
    }
   ],
   "source": [
    "%pip install pyagrum\n",
    "import csv\n",
    "import pyAgrum as gum\n",
    "import pyAgrum.lib.notebook as gnb\n",
    "import re\n",
    "import itertools"
   ]
  },
  {
   "cell_type": "markdown",
   "metadata": {},
   "source": [
    "## Init csv and data"
   ]
  },
  {
   "cell_type": "code",
   "execution_count": 204,
   "metadata": {},
   "outputs": [],
   "source": [
    "VERTICES_FILE = \"VERTICES.CSV\"\n",
    "ARCS_FILE = \"ARCS.CSV\"\n",
    "TID_FILE = \"thid.csv\"\n",
    "SC_ASSOCIATION_FILE = \"scAssociation.csv\"\n",
    "IS_SIMPLIFIED = True\n",
    "import re\n",
    "\n",
    "class Vertex:\n",
    "  def __init__(self, id, text, type,  number):\n",
    "    self.id = str(id)\n",
    "    self.text = text \n",
    "    self.type = type \n",
    "    self.number = number\n",
    "    self.tid_id = None\n",
    "    if self.is_tid():\n",
    "      self.tid_id = self.extract_tid_id()\n",
    "\n",
    "  def is_leaf(self):\n",
    "    return self.type == \"LEAF\"\n",
    "\n",
    "  def is_and(self):\n",
    "    return self.type == \"AND\"\n",
    "\n",
    "  def is_or(self):\n",
    "    return self.type == \"OR\"\n",
    "\n",
    "  def is_tid(self):\n",
    "    return \"tid\" in self.text \n",
    "\n",
    "  def extract_tid_id(self):\n",
    "      return re.sub(\"\\(.*?\\)\", \"\", self.text)\n",
    "\n",
    "  def is_final_tid(self):\n",
    "    return self.tid_id == \"tid17\" or self.tid_id == \"tid02\"\n",
    "\n",
    "  def __str__(self):\n",
    "    return \"id = {}, text = {}, type = {}\".format(self.id, self.text, self.type)\n",
    "\n",
    "  def find_by_id(vertices, v_id):\n",
    "    for v in vertices:\n",
    "      if v.id == v_id:\n",
    "        return v.get_name()\n",
    "    return None\n",
    "\n",
    "  def get_threats(vertices):\n",
    "      return [v for v in vertices if v.is_tid()]\n",
    "\n",
    "  def get_name(self):\n",
    "    return \"{}-{}\".format(self.id, self.text)\n",
    "\n",
    "# class FinalSC:\n",
    "#     def is_tid_final(id):\n",
    "        # return id == \n",
    "\n",
    "## Folders that change depending on the threat model\n",
    "def complete_folder(f):\n",
    "  return path.join(\"complete\", f)\n",
    "\n",
    "def simplified_folder(f):\n",
    "  return path.join(\"simplified\", f)\n",
    "\n",
    "# Data folder, with probabilities and other stuff\n",
    "def folder_data(f):\n",
    "  return path.join(\"data\", f)\n",
    "\n",
    "\n",
    "\n",
    "\n",
    "vertices = []\n",
    "arcs = []\n",
    "thidProb = {}\n",
    "#dict containing p(v) of a node \n",
    "arcsDict = {}\n",
    "#dict containing parents of a node \n",
    "invArcsDict = {}\n",
    "\n",
    "\n",
    "\n",
    "def init_data(folder_fn):\n",
    "  # Get vertices nodes\n",
    "  with open(folder_fn(VERTICES_FILE)) as csv_file:\n",
    "    csv_reader = csv.reader(csv_file, delimiter=',')\n",
    "    for row in csv_reader:\n",
    "      v = Vertex(row[0], row[1], row[2], row[3])\n",
    "      vertices.append(v)\n",
    "      \n",
    "  # arc nodes extraction \n",
    "  with open(folder_fn(ARCS_FILE)) as csv_file:\n",
    "    csv_reader = csv.reader(csv_file, delimiter=',')\n",
    "    for row in csv_reader:\n",
    "      [int(i) for i in row]\n",
    "      arcs.append(row)\n",
    "      if row[0] in invArcsDict.keys():\n",
    "        invArcsDict[row[0]].append(row[1])\n",
    "      else:\n",
    "        invArcsDict[row[0]] = []\n",
    "        invArcsDict[row[0]].append(row[1])\n",
    "      arcsDict[row[1]] = row[-1]\n",
    "\n",
    "  #prelievo informazioni delle thid prob\n",
    "  with open(folder_data(TID_FILE)) as csv_file:\n",
    "    csv_reader = csv.reader(csv_file, delimiter=',')\n",
    "    for row in csv_reader:\n",
    "      thidProb[row[0]] = float(row[-1])\n",
    "\n",
    "#init_data(complete_folder)\n",
    "if IS_SIMPLIFIED:\n",
    "  init_data(simplified_folder)\n",
    "else:\n",
    "  init_data(complete_folder)\n",
    "\n",
    "\n",
    "def multiplyList(myList) :\n",
    "    # Multiply elements one by one\n",
    "    result = 1\n",
    "    for x in myList:\n",
    "         result = result * x\n",
    "    return result\n",
    "\n",
    "\n"
   ]
  },
  {
   "cell_type": "markdown",
   "metadata": {},
   "source": [
    "# Helper functions"
   ]
  },
  {
   "cell_type": "markdown",
   "metadata": {
    "id": "RvA4XHsbBMNe"
   },
   "source": [
    "# Bayesian Graph Generation\n"
   ]
  },
  {
   "cell_type": "code",
   "execution_count": 217,
   "metadata": {
    "colab": {
     "base_uri": "https://localhost:8080/",
     "height": 464
    },
    "executionInfo": {
     "elapsed": 450,
     "status": "ok",
     "timestamp": 1649881280563,
     "user": {
      "displayName": "Gaetano Perrone",
      "userId": "04518690982825853831"
     },
     "user_tz": -120
    },
    "id": "cCFgvMKuv8bh",
    "outputId": "b87682cf-a6c7-4a46-a30e-ccb570c555df"
   },
   "outputs": [
    {
     "data": {
      "image/svg+xml": "<svg xmlns=\"http://www.w3.org/2000/svg\" xmlns:xlink=\"http://www.w3.org/1999/xlink\" width=\"1350pt\" height=\"332pt\" viewBox=\"0.00 0.00 1350.11 332.00\">\n<g id=\"graph0\" class=\"graph\" transform=\"scale(1 1) rotate(0) translate(4 328)\">\n<title>G</title>\n<!-- 12&#45;RULE 2 (TID_03 &#45; The attacker installs a skimming device to exfiltrate data) -->\n<g id=\"node1\" class=\"node\">\n<title>12-RULE 2 (TID_03 - The attacker installs a skimming device to exfiltrate data)</title>\n<g id=\"a_node1\"><a xlink:title=\"(11) 12-RULE 2 (TID_03 - The attacker installs a skimming device to exfiltrate data)\">\n<ellipse fill=\"#404040\" stroke=\"black\" cx=\"827.18\" cy=\"-234\" rx=\"297.85\" ry=\"18\"/>\n<text text-anchor=\"middle\" x=\"827.18\" y=\"-230.3\" font-family=\"Times,serif\" font-size=\"14.00\" fill=\"white\">12-RULE 2 (TID_03 - The attacker installs a skimming device to exfiltrate data)</text>\n</a>\n</g>\n</g>\n<!-- 11&#45;skimmingDevice(internal_attacker,daniel_workstation) -->\n<g id=\"node6\" class=\"node\">\n<title>11-skimmingDevice(internal_attacker,daniel_workstation)</title>\n<g id=\"a_node6\"><a xlink:title=\"(10) 11-skimmingDevice(internal_attacker,daniel_workstation)\">\n<ellipse fill=\"#404040\" stroke=\"black\" cx=\"825.18\" cy=\"-162\" rx=\"217.96\" ry=\"18\"/>\n<text text-anchor=\"middle\" x=\"825.18\" y=\"-158.3\" font-family=\"Times,serif\" font-size=\"14.00\" fill=\"white\">11-skimmingDevice(internal_attacker,daniel_workstation)</text>\n</a>\n</g>\n</g>\n<!-- 12&#45;RULE 2 (TID_03 &#45; The attacker installs a skimming device to exfiltrate data)&#45;&gt;11&#45;skimmingDevice(internal_attacker,daniel_workstation) -->\n<g id=\"edge3\" class=\"edge\">\n<title>12-RULE 2 (TID_03 - The attacker installs a skimming device to exfiltrate data)-&gt;11-skimmingDevice(internal_attacker,daniel_workstation)</title>\n<g id=\"a_edge3\"><a xlink:title=\"(11, 10) : \">\n<path fill=\"none\" stroke=\"#4a4a4a\" d=\"M826.68,-215.7C826.46,-207.98 826.2,-198.71 825.95,-190.11\"/>\n<polygon fill=\"#4a4a4a\" stroke=\"#4a4a4a\" points=\"829.45,-190 825.67,-180.1 822.45,-190.2 829.45,-190\"/>\n</a>\n</g>\n</g>\n<!-- 1&#45;dataExfiltration(data,company_website) -->\n<g id=\"node2\" class=\"node\">\n<title>1-dataExfiltration(data,company_website)</title>\n<g id=\"a_node2\"><a xlink:title=\"(0) 1-dataExfiltration(data,company_website)\">\n<ellipse fill=\"#404040\" stroke=\"black\" cx=\"278.18\" cy=\"-18\" rx=\"159.77\" ry=\"18\"/>\n<text text-anchor=\"middle\" x=\"278.18\" y=\"-14.3\" font-family=\"Times,serif\" font-size=\"14.00\" fill=\"white\">1-dataExfiltration(data,company_website)</text>\n</a>\n</g>\n</g>\n<!-- 3&#45;tid17(_) -->\n<g id=\"node3\" class=\"node\">\n<title>3-tid17(_)</title>\n<g id=\"a_node3\"><a xlink:title=\"(2) 3-tid17(_)\">\n<ellipse fill=\"#404040\" stroke=\"black\" cx=\"534.18\" cy=\"-162\" rx=\"46.29\" ry=\"18\"/>\n<text text-anchor=\"middle\" x=\"534.18\" y=\"-158.3\" font-family=\"Times,serif\" font-size=\"14.00\" fill=\"white\">3-tid17(_)</text>\n</a>\n</g>\n</g>\n<!-- 2&#45;RULE 0 (TID_17 &#45; Data exfiltration from a company asset) -->\n<g id=\"node12\" class=\"node\">\n<title>2-RULE 0 (TID_17 - Data exfiltration from a company asset)</title>\n<g id=\"a_node12\"><a xlink:title=\"(1) 2-RULE 0 (TID_17 - Data exfiltration from a company asset)\">\n<ellipse fill=\"#404040\" stroke=\"black\" cx=\"278.18\" cy=\"-90\" rx=\"230.96\" ry=\"18\"/>\n<text text-anchor=\"middle\" x=\"278.18\" y=\"-86.3\" font-family=\"Times,serif\" font-size=\"14.00\" fill=\"white\">2-RULE 0 (TID_17 - Data exfiltration from a company asset)</text>\n</a>\n</g>\n</g>\n<!-- 3&#45;tid17(_)&#45;&gt;2&#45;RULE 0 (TID_17 &#45; Data exfiltration from a company asset) -->\n<g id=\"edge2\" class=\"edge\">\n<title>3-tid17(_)-&gt;2-RULE 0 (TID_17 - Data exfiltration from a company asset)</title>\n<g id=\"a_edge2\"><a xlink:title=\"(2, 1) : \">\n<path fill=\"none\" stroke=\"#4a4a4a\" d=\"M497.5,-150.97C458.7,-140.36 396.53,-123.36 348.28,-110.17\"/>\n<polygon fill=\"#4a4a4a\" stroke=\"#4a4a4a\" points=\"349.08,-106.76 338.51,-107.5 347.24,-113.51 349.08,-106.76\"/>\n</a>\n</g>\n</g>\n<!-- 10&#45;RULE 1 (TID_17 &#45; Data exfiltration from a company asset) -->\n<g id=\"node14\" class=\"node\">\n<title>10-RULE 1 (TID_17 - Data exfiltration from a company asset)</title>\n<g id=\"a_node14\"><a xlink:title=\"(9) 10-RULE 1 (TID_17 - Data exfiltration from a company asset)\">\n<ellipse fill=\"#404040\" stroke=\"black\" cx=\"780.18\" cy=\"-90\" rx=\"235.06\" ry=\"18\"/>\n<text text-anchor=\"middle\" x=\"780.18\" y=\"-86.3\" font-family=\"Times,serif\" font-size=\"14.00\" fill=\"white\">10-RULE 1 (TID_17 - Data exfiltration from a company asset)</text>\n</a>\n</g>\n</g>\n<!-- 3&#45;tid17(_)&#45;&gt;10&#45;RULE 1 (TID_17 &#45; Data exfiltration from a company asset) -->\n<g id=\"edge8\" class=\"edge\">\n<title>3-tid17(_)-&gt;10-RULE 1 (TID_17 - Data exfiltration from a company asset)</title>\n<g id=\"a_edge8\"><a xlink:title=\"(2, 9) : \">\n<path fill=\"none\" stroke=\"#4a4a4a\" d=\"M570.21,-150.75C607.39,-140.17 666.26,-123.42 712.22,-110.34\"/>\n<polygon fill=\"#4a4a4a\" stroke=\"#4a4a4a\" points=\"713.46,-113.63 722.12,-107.52 711.54,-106.89 713.46,-113.63\"/>\n</a>\n</g>\n</g>\n<!-- 9&#45;dataExfiltration(data,daniel_workstation) -->\n<g id=\"node4\" class=\"node\">\n<title>9-dataExfiltration(data,daniel_workstation)</title>\n<g id=\"a_node4\"><a xlink:title=\"(8) 9-dataExfiltration(data,daniel_workstation)\">\n<ellipse fill=\"#404040\" stroke=\"black\" cx=\"780.18\" cy=\"-18\" rx=\"163.27\" ry=\"18\"/>\n<text text-anchor=\"middle\" x=\"780.18\" y=\"-14.3\" font-family=\"Times,serif\" font-size=\"14.00\" fill=\"white\">9-dataExfiltration(data,daniel_workstation)</text>\n</a>\n</g>\n</g>\n<!-- 13&#45;tid03(_) -->\n<g id=\"node5\" class=\"node\">\n<title>13-tid03(_)</title>\n<g id=\"a_node5\"><a xlink:title=\"(12) 13-tid03(_)\">\n<ellipse fill=\"#404040\" stroke=\"black\" cx=\"827.18\" cy=\"-306\" rx=\"50.89\" ry=\"18\"/>\n<text text-anchor=\"middle\" x=\"827.18\" y=\"-302.3\" font-family=\"Times,serif\" font-size=\"14.00\" fill=\"white\">13-tid03(_)</text>\n</a>\n</g>\n</g>\n<!-- 13&#45;tid03(_)&#45;&gt;12&#45;RULE 2 (TID_03 &#45; The attacker installs a skimming device to exfiltrate data) -->\n<g id=\"edge12\" class=\"edge\">\n<title>13-tid03(_)-&gt;12-RULE 2 (TID_03 - The attacker installs a skimming device to exfiltrate data)</title>\n<g id=\"a_edge12\"><a xlink:title=\"(12, 11) : \">\n<path fill=\"none\" stroke=\"#4a4a4a\" d=\"M827.18,-287.7C827.18,-279.98 827.18,-270.71 827.18,-262.11\"/>\n<polygon fill=\"#4a4a4a\" stroke=\"#4a4a4a\" points=\"830.68,-262.1 827.18,-252.1 823.68,-262.1 830.68,-262.1\"/>\n</a>\n</g>\n</g>\n<!-- 11&#45;skimmingDevice(internal_attacker,daniel_workstation)&#45;&gt;10&#45;RULE 1 (TID_17 &#45; Data exfiltration from a company asset) -->\n<g id=\"edge11\" class=\"edge\">\n<title>11-skimmingDevice(internal_attacker,daniel_workstation)-&gt;10-RULE 1 (TID_17 - Data exfiltration from a company asset)</title>\n<g id=\"a_edge11\"><a xlink:title=\"(10, 9) : \">\n<path fill=\"none\" stroke=\"#4a4a4a\" d=\"M814.06,-143.7C808.82,-135.56 802.48,-125.69 796.7,-116.7\"/>\n<polygon fill=\"#4a4a4a\" stroke=\"#4a4a4a\" points=\"799.53,-114.62 791.17,-108.1 793.64,-118.41 799.53,-114.62\"/>\n</a>\n</g>\n</g>\n<!-- 7&#45;isWeb(&#39;SQLi&#39;) -->\n<g id=\"node7\" class=\"node\">\n<title>7-isWeb('SQLi')</title>\n<g id=\"a_node7\"><a xlink:title=\"(6) 7-isWeb('SQLi')\">\n<ellipse fill=\"#404040\" stroke=\"black\" cx=\"103.18\" cy=\"-306\" rx=\"67.69\" ry=\"18\"/>\n<text text-anchor=\"middle\" x=\"103.18\" y=\"-302.3\" font-family=\"Times,serif\" font-size=\"14.00\" fill=\"white\">7-isWeb('SQLi')</text>\n</a>\n</g>\n</g>\n<!-- 5&#45;RULE 3 (TID_11 &#45; A web vulnerability affects the webserver) -->\n<g id=\"node11\" class=\"node\">\n<title>5-RULE 3 (TID_11 - A web vulnerability affects the webserver)</title>\n<g id=\"a_node11\"><a xlink:title=\"(4) 5-RULE 3 (TID_11 - A web vulnerability affects the webserver)\">\n<ellipse fill=\"#404040\" stroke=\"black\" cx=\"239.18\" cy=\"-234\" rx=\"239.36\" ry=\"18\"/>\n<text text-anchor=\"middle\" x=\"239.18\" y=\"-230.3\" font-family=\"Times,serif\" font-size=\"14.00\" fill=\"white\">5-RULE 3 (TID_11 - A web vulnerability affects the webserver)</text>\n</a>\n</g>\n</g>\n<!-- 7&#45;isWeb(&#39;SQLi&#39;)&#45;&gt;5&#45;RULE 3 (TID_11 &#45; A web vulnerability affects the webserver) -->\n<g id=\"edge7\" class=\"edge\">\n<title>7-isWeb('SQLi')-&gt;5-RULE 3 (TID_11 - A web vulnerability affects the webserver)</title>\n<g id=\"a_edge7\"><a xlink:title=\"(6, 4) : \">\n<path fill=\"none\" stroke=\"#4a4a4a\" d=\"M133.02,-289.64C151.82,-279.96 176.37,-267.33 197.13,-256.64\"/>\n<polygon fill=\"#4a4a4a\" stroke=\"#4a4a4a\" points=\"198.77,-259.73 206.06,-252.04 195.57,-253.51 198.77,-259.73\"/>\n</a>\n</g>\n</g>\n<!-- 6&#45;tid11(_) -->\n<g id=\"node8\" class=\"node\">\n<title>6-tid11(_)</title>\n<g id=\"a_node8\"><a xlink:title=\"(5) 6-tid11(_)\">\n<ellipse fill=\"#404040\" stroke=\"black\" cx=\"235.18\" cy=\"-306\" rx=\"46.29\" ry=\"18\"/>\n<text text-anchor=\"middle\" x=\"235.18\" y=\"-302.3\" font-family=\"Times,serif\" font-size=\"14.00\" fill=\"white\">6-tid11(_)</text>\n</a>\n</g>\n</g>\n<!-- 6&#45;tid11(_)&#45;&gt;5&#45;RULE 3 (TID_11 &#45; A web vulnerability affects the webserver) -->\n<g id=\"edge6\" class=\"edge\">\n<title>6-tid11(_)-&gt;5-RULE 3 (TID_11 - A web vulnerability affects the webserver)</title>\n<g id=\"a_edge6\"><a xlink:title=\"(5, 4) : \">\n<path fill=\"none\" stroke=\"#4a4a4a\" d=\"M236.17,-287.7C236.61,-279.98 237.14,-270.71 237.63,-262.11\"/>\n<polygon fill=\"#4a4a4a\" stroke=\"#4a4a4a\" points=\"241.13,-262.29 238.2,-252.1 234.14,-261.89 241.13,-262.29\"/>\n</a>\n</g>\n</g>\n<!-- 4&#45;webDisclosureVulnerability(company_website,&#39;SQLi&#39;) -->\n<g id=\"node9\" class=\"node\">\n<title>4-webDisclosureVulnerability(company_website,'SQLi')</title>\n<g id=\"a_node9\"><a xlink:title=\"(3) 4-webDisclosureVulnerability(company_website,'SQLi')\">\n<ellipse fill=\"#404040\" stroke=\"black\" cx=\"242.18\" cy=\"-162\" rx=\"210.66\" ry=\"18\"/>\n<text text-anchor=\"middle\" x=\"242.18\" y=\"-158.3\" font-family=\"Times,serif\" font-size=\"14.00\" fill=\"white\">4-webDisclosureVulnerability(company_website,'SQLi')</text>\n</a>\n</g>\n</g>\n<!-- 4&#45;webDisclosureVulnerability(company_website,&#39;SQLi&#39;)&#45;&gt;2&#45;RULE 0 (TID_17 &#45; Data exfiltration from a company asset) -->\n<g id=\"edge5\" class=\"edge\">\n<title>4-webDisclosureVulnerability(company_website,'SQLi')-&gt;2-RULE 0 (TID_17 - Data exfiltration from a company asset)</title>\n<g id=\"a_edge5\"><a xlink:title=\"(3, 1) : \">\n<path fill=\"none\" stroke=\"#4a4a4a\" d=\"M251.08,-143.7C255.18,-135.73 260.13,-126.1 264.67,-117.26\"/>\n<polygon fill=\"#4a4a4a\" stroke=\"#4a4a4a\" points=\"267.92,-118.6 269.38,-108.1 261.7,-115.4 267.92,-118.6\"/>\n</a>\n</g>\n</g>\n<!-- 14&#45;hasPhysicalAccess(internal_attacker,daniel_workstation) -->\n<g id=\"node10\" class=\"node\">\n<title>14-hasPhysicalAccess(internal_attacker,daniel_workstation)</title>\n<g id=\"a_node10\"><a xlink:title=\"(13) 14-hasPhysicalAccess(internal_attacker,daniel_workstation)\">\n<ellipse fill=\"#404040\" stroke=\"black\" cx=\"1119.18\" cy=\"-306\" rx=\"222.86\" ry=\"18\"/>\n<text text-anchor=\"middle\" x=\"1119.18\" y=\"-302.3\" font-family=\"Times,serif\" font-size=\"14.00\" fill=\"white\">14-hasPhysicalAccess(internal_attacker,daniel_workstation)</text>\n</a>\n</g>\n</g>\n<!-- 14&#45;hasPhysicalAccess(internal_attacker,daniel_workstation)&#45;&gt;12&#45;RULE 2 (TID_03 &#45; The attacker installs a skimming device to exfiltrate data) -->\n<g id=\"edge13\" class=\"edge\">\n<title>14-hasPhysicalAccess(internal_attacker,daniel_workstation)-&gt;12-RULE 2 (TID_03 - The attacker installs a skimming device to exfiltrate data)</title>\n<g id=\"a_edge13\"><a xlink:title=\"(13, 11) : \">\n<path fill=\"none\" stroke=\"#4a4a4a\" d=\"M1051.45,-288.76C1008.05,-278.36 951.55,-264.82 906.12,-253.92\"/>\n<polygon fill=\"#4a4a4a\" stroke=\"#4a4a4a\" points=\"906.85,-250.5 896.31,-251.57 905.22,-257.31 906.85,-250.5\"/>\n</a>\n</g>\n</g>\n<!-- 5&#45;RULE 3 (TID_11 &#45; A web vulnerability affects the webserver)&#45;&gt;4&#45;webDisclosureVulnerability(company_website,&#39;SQLi&#39;) -->\n<g id=\"edge4\" class=\"edge\">\n<title>5-RULE 3 (TID_11 - A web vulnerability affects the webserver)-&gt;4-webDisclosureVulnerability(company_website,'SQLi')</title>\n<g id=\"a_edge4\"><a xlink:title=\"(4, 3) : \">\n<path fill=\"none\" stroke=\"#4a4a4a\" d=\"M239.92,-215.7C240.25,-207.98 240.65,-198.71 241.02,-190.11\"/>\n<polygon fill=\"#4a4a4a\" stroke=\"#4a4a4a\" points=\"244.51,-190.25 241.45,-180.1 237.52,-189.95 244.51,-190.25\"/>\n</a>\n</g>\n</g>\n<!-- 2&#45;RULE 0 (TID_17 &#45; Data exfiltration from a company asset)&#45;&gt;1&#45;dataExfiltration(data,company_website) -->\n<g id=\"edge9\" class=\"edge\">\n<title>2-RULE 0 (TID_17 - Data exfiltration from a company asset)-&gt;1-dataExfiltration(data,company_website)</title>\n<g id=\"a_edge9\"><a xlink:title=\"(1, 0) : \">\n<path fill=\"none\" stroke=\"#4a4a4a\" d=\"M278.18,-71.7C278.18,-63.98 278.18,-54.71 278.18,-46.11\"/>\n<polygon fill=\"#4a4a4a\" stroke=\"#4a4a4a\" points=\"281.68,-46.1 278.18,-36.1 274.68,-46.1 281.68,-46.1\"/>\n</a>\n</g>\n</g>\n<!-- 8&#45;vulExists(company_website,&#39;SQLi&#39;,information_disclosure) -->\n<g id=\"node13\" class=\"node\">\n<title>8-vulExists(company_website,'SQLi',information_disclosure)</title>\n<g id=\"a_node13\"><a xlink:title=\"(7) 8-vulExists(company_website,'SQLi',information_disclosure)\">\n<ellipse fill=\"#404040\" stroke=\"black\" cx=\"529.18\" cy=\"-306\" rx=\"229.36\" ry=\"18\"/>\n<text text-anchor=\"middle\" x=\"529.18\" y=\"-302.3\" font-family=\"Times,serif\" font-size=\"14.00\" fill=\"white\">8-vulExists(company_website,'SQLi',information_disclosure)</text>\n</a>\n</g>\n</g>\n<!-- 8&#45;vulExists(company_website,&#39;SQLi&#39;,information_disclosure)&#45;&gt;5&#45;RULE 3 (TID_11 &#45; A web vulnerability affects the webserver) -->\n<g id=\"edge1\" class=\"edge\">\n<title>8-vulExists(company_website,'SQLi',information_disclosure)-&gt;5-RULE 3 (TID_11 - A web vulnerability affects the webserver)</title>\n<g id=\"a_edge1\"><a xlink:title=\"(7, 4) : \">\n<path fill=\"none\" stroke=\"#4a4a4a\" d=\"M461.92,-288.76C418.5,-278.29 361.89,-264.62 316.6,-253.69\"/>\n<polygon fill=\"#4a4a4a\" stroke=\"#4a4a4a\" points=\"317.37,-250.27 306.83,-251.33 315.73,-257.08 317.37,-250.27\"/>\n</a>\n</g>\n</g>\n<!-- 10&#45;RULE 1 (TID_17 &#45; Data exfiltration from a company asset)&#45;&gt;9&#45;dataExfiltration(data,daniel_workstation) -->\n<g id=\"edge10\" class=\"edge\">\n<title>10-RULE 1 (TID_17 - Data exfiltration from a company asset)-&gt;9-dataExfiltration(data,daniel_workstation)</title>\n<g id=\"a_edge10\"><a xlink:title=\"(9, 8) : \">\n<path fill=\"none\" stroke=\"#4a4a4a\" d=\"M780.18,-71.7C780.18,-63.98 780.18,-54.71 780.18,-46.11\"/>\n<polygon fill=\"#4a4a4a\" stroke=\"#4a4a4a\" points=\"783.68,-46.1 780.18,-36.1 776.68,-46.1 783.68,-46.1\"/>\n</a>\n</g>\n</g>\n</g>\n</svg>",
      "text/plain": [
       "<IPython.core.display.SVG object>"
      ]
     },
     "metadata": {},
     "output_type": "display_data"
    },
    {
     "data": {
      "text/html": [
       "\n",
       "      <style>\n",
       "      .floating-box {\n",
       "      display: inline-block;\n",
       "      margin: 7px;\n",
       "      padding : 3px;\n",
       "      border: 2px solid #FFFFFF;  \n",
       "      valign:middle;\n",
       "      background-color: #FDFDFD;\n",
       "      }\n",
       "      </style>\n",
       "      <div class=\"floating-box\"><table style=\"border:1px solid black;\">\n",
       "<tr><th colspan='2'></th>\n",
       "      <th colspan='2' style='border:1px solid black;color:black;background-color:#808080;'><center>12-RULE 2 (TID_03 - The attacker installs a skimming device to exfiltrate data)</center>\n",
       "      </th></tr>\n",
       "<tr><th style='border:1px solid black;color:black;background-color:#808080'><center>14-hasPhysicalAccess(internal_attacker,daniel_workstation)</center></th><th style='border:1px solid black;color:black;background-color:#808080'><center>13-tid03(_)</center></th><th style='border:1px solid black;border-bottom-style: double;color:black;background-color:#BBBBBB'>\n",
       "      <center>0</center></th><th style='border:1px solid black;border-bottom-style: double;color:black;background-color:#BBBBBB'>\n",
       "      <center>1</center></th></tr>\n",
       "<tr><th style='border:1px solid black;color:black;background-color:#BBBBBB;' rowspan = '2'>\n",
       "            <center>0</center></th><th style='border:1px solid black;color:black;background-color:#BBBBBB'><center>0</center></th><td style='text-align:right;'>0.0000</td><td style='text-align:right;'>0.0000</td></tr>\n",
       "<tr><th style='border:1px solid black;color:black;background-color:#BBBBBB'><center>1</center></th><td style='text-align:right;'>0.0000</td><td style='text-align:right;'>0.0000</td></tr>\n",
       "<tr><th style='border:1px solid black;color:black;background-color:#BBBBBB;' rowspan = '2'>\n",
       "            <center>1</center></th><th style='border:1px solid black;color:black;background-color:#BBBBBB'><center>0</center></th><td style='text-align:right;'>0.0000</td><td style='text-align:right;'>0.0000</td></tr>\n",
       "<tr><th style='border:1px solid black;color:black;background-color:#BBBBBB'><center>1</center></th><td style='text-align:right;'>0.0000</td><td style='text-align:right;'>0.0000</td></tr>\n",
       "</table></div><div class=\"floating-box\"><table style=\"border:1px solid black;\">\n",
       "<tr><th colspan='1'></th>\n",
       "      <th colspan='2' style='border:1px solid black;color:black;background-color:#808080;'><center>1-dataExfiltration(data,company_website)</center>\n",
       "      </th></tr>\n",
       "<tr><th style='border:1px solid black;color:black;background-color:#808080'><center>2-RULE 0 (TID_17 - Data exfiltration from a company asset)</center></th><th style='border:1px solid black;border-bottom-style: double;color:black;background-color:#BBBBBB'>\n",
       "      <center>0</center></th><th style='border:1px solid black;border-bottom-style: double;color:black;background-color:#BBBBBB'>\n",
       "      <center>1</center></th></tr>\n",
       "<tr><th style='border:1px solid black;color:black;background-color:#BBBBBB'><center>0</center></th><td style='text-align:right;'>0.0000</td><td style='text-align:right;'>0.0000</td></tr>\n",
       "<tr><th style='border:1px solid black;color:black;background-color:#BBBBBB'><center>1</center></th><td style='text-align:right;'>0.0000</td><td style='text-align:right;'>0.0000</td></tr>\n",
       "</table></div><div class=\"floating-box\"><table style=\"border:1px solid black;\">\n",
       "<tr style='border:1px solid black;color:black;background-color:#808080'>\n",
       "      <th colspan='2'><center>3-tid17(_)</center></th></tr>\n",
       "<tr><th style='border:1px solid black;border-bottom-style: double;color:black;background-color:#BBBBBB'>\n",
       "      <center>0</center></th><th style='border:1px solid black;border-bottom-style: double;color:black;background-color:#BBBBBB'>\n",
       "      <center>1</center></th></tr>\n",
       "<tr><td style='color:black;background-color:#9ae364;text-align:right;'>0.7831</td><td style='color:black;background-color:#e39a64;text-align:right;'>0.2169</td></tr>\n",
       "</table></div><div class=\"floating-box\"><table style=\"border:1px solid black;\">\n",
       "<tr><th colspan='1'></th>\n",
       "      <th colspan='2' style='border:1px solid black;color:black;background-color:#808080;'><center>9-dataExfiltration(data,daniel_workstation)</center>\n",
       "      </th></tr>\n",
       "<tr><th style='border:1px solid black;color:black;background-color:#808080'><center>10-RULE 1 (TID_17 - Data exfiltration from a company asset)</center></th><th style='border:1px solid black;border-bottom-style: double;color:black;background-color:#BBBBBB'>\n",
       "      <center>0</center></th><th style='border:1px solid black;border-bottom-style: double;color:black;background-color:#BBBBBB'>\n",
       "      <center>1</center></th></tr>\n",
       "<tr><th style='border:1px solid black;color:black;background-color:#BBBBBB'><center>0</center></th><td style='text-align:right;'>0.0000</td><td style='text-align:right;'>0.0000</td></tr>\n",
       "<tr><th style='border:1px solid black;color:black;background-color:#BBBBBB'><center>1</center></th><td style='text-align:right;'>0.0000</td><td style='text-align:right;'>0.0000</td></tr>\n",
       "</table></div><div class=\"floating-box\"><table style=\"border:1px solid black;\">\n",
       "<tr style='border:1px solid black;color:black;background-color:#808080'>\n",
       "      <th colspan='2'><center>13-tid03(_)</center></th></tr>\n",
       "<tr><th style='border:1px solid black;border-bottom-style: double;color:black;background-color:#BBBBBB'>\n",
       "      <center>0</center></th><th style='border:1px solid black;border-bottom-style: double;color:black;background-color:#BBBBBB'>\n",
       "      <center>1</center></th></tr>\n",
       "<tr><td style='color:black;background-color:#80fd64;text-align:right;'>0.9890</td><td style='color:black;background-color:#fd8064;text-align:right;'>0.0110</td></tr>\n",
       "</table></div><div class=\"floating-box\"><table style=\"border:1px solid black;\">\n",
       "<tr><th colspan='1'></th>\n",
       "      <th colspan='2' style='border:1px solid black;color:black;background-color:#808080;'><center>11-skimmingDevice(internal_attacker,daniel_workstation)</center>\n",
       "      </th></tr>\n",
       "<tr><th style='border:1px solid black;color:black;background-color:#808080'><center>12-RULE 2 (TID_03 - The attacker installs a skimming device to exfiltrate data)</center></th><th style='border:1px solid black;border-bottom-style: double;color:black;background-color:#BBBBBB'>\n",
       "      <center>0</center></th><th style='border:1px solid black;border-bottom-style: double;color:black;background-color:#BBBBBB'>\n",
       "      <center>1</center></th></tr>\n",
       "<tr><th style='border:1px solid black;color:black;background-color:#BBBBBB'><center>0</center></th><td style='text-align:right;'>0.0000</td><td style='text-align:right;'>0.0000</td></tr>\n",
       "<tr><th style='border:1px solid black;color:black;background-color:#BBBBBB'><center>1</center></th><td style='text-align:right;'>0.0000</td><td style='text-align:right;'>0.0000</td></tr>\n",
       "</table></div><div class=\"floating-box\"><table style=\"border:1px solid black;\">\n",
       "<tr style='border:1px solid black;color:black;background-color:#808080'>\n",
       "      <th colspan='2'><center>7-isWeb('SQLi')</center></th></tr>\n",
       "<tr><th style='border:1px solid black;border-bottom-style: double;color:black;background-color:#BBBBBB'>\n",
       "      <center>0</center></th><th style='border:1px solid black;border-bottom-style: double;color:black;background-color:#BBBBBB'>\n",
       "      <center>1</center></th></tr>\n",
       "<tr><td style='color:black;background-color:#ff7f64;text-align:right;'>0.0000</td><td style='color:black;background-color:#7fff64;text-align:right;'>1.0000</td></tr>\n",
       "</table></div><div class=\"floating-box\"><table style=\"border:1px solid black;\">\n",
       "<tr style='border:1px solid black;color:black;background-color:#808080'>\n",
       "      <th colspan='2'><center>6-tid11(_)</center></th></tr>\n",
       "<tr><th style='border:1px solid black;border-bottom-style: double;color:black;background-color:#BBBBBB'>\n",
       "      <center>0</center></th><th style='border:1px solid black;border-bottom-style: double;color:black;background-color:#BBBBBB'>\n",
       "      <center>1</center></th></tr>\n",
       "<tr><td style='color:black;background-color:#9de064;text-align:right;'>0.7647</td><td style='color:black;background-color:#e09d64;text-align:right;'>0.2353</td></tr>\n",
       "</table></div><div class=\"floating-box\"><table style=\"border:1px solid black;\">\n",
       "<tr><th colspan='1'></th>\n",
       "      <th colspan='2' style='border:1px solid black;color:black;background-color:#808080;'><center>4-webDisclosureVulnerability(company_website,'SQLi')</center>\n",
       "      </th></tr>\n",
       "<tr><th style='border:1px solid black;color:black;background-color:#808080'><center>5-RULE 3 (TID_11 - A web vulnerability affects the webserver)</center></th><th style='border:1px solid black;border-bottom-style: double;color:black;background-color:#BBBBBB'>\n",
       "      <center>0</center></th><th style='border:1px solid black;border-bottom-style: double;color:black;background-color:#BBBBBB'>\n",
       "      <center>1</center></th></tr>\n",
       "<tr><th style='border:1px solid black;color:black;background-color:#BBBBBB'><center>0</center></th><td style='text-align:right;'>0.0000</td><td style='text-align:right;'>0.0000</td></tr>\n",
       "<tr><th style='border:1px solid black;color:black;background-color:#BBBBBB'><center>1</center></th><td style='text-align:right;'>0.0000</td><td style='text-align:right;'>0.0000</td></tr>\n",
       "</table></div><div class=\"floating-box\"><table style=\"border:1px solid black;\">\n",
       "<tr style='border:1px solid black;color:black;background-color:#808080'>\n",
       "      <th colspan='2'><center>14-hasPhysicalAccess(internal_attacker,daniel_workstation)</center></th></tr>\n",
       "<tr><th style='border:1px solid black;border-bottom-style: double;color:black;background-color:#BBBBBB'>\n",
       "      <center>0</center></th><th style='border:1px solid black;border-bottom-style: double;color:black;background-color:#BBBBBB'>\n",
       "      <center>1</center></th></tr>\n",
       "<tr><td style='color:black;background-color:#ff7f64;text-align:right;'>0.0000</td><td style='color:black;background-color:#7fff64;text-align:right;'>1.0000</td></tr>\n",
       "</table></div><div class=\"floating-box\"><table style=\"border:1px solid black;\">\n",
       "<tr><th colspan='3'></th>\n",
       "      <th colspan='2' style='border:1px solid black;color:black;background-color:#808080;'><center>5-RULE 3 (TID_11 - A web vulnerability affects the webserver)</center>\n",
       "      </th></tr>\n",
       "<tr><th style='border:1px solid black;color:black;background-color:#808080'><center>8-vulExists(company_website,'SQLi',information_disclosure)</center></th><th style='border:1px solid black;color:black;background-color:#808080'><center>7-isWeb('SQLi')</center></th><th style='border:1px solid black;color:black;background-color:#808080'><center>6-tid11(_)</center></th><th style='border:1px solid black;border-bottom-style: double;color:black;background-color:#BBBBBB'>\n",
       "      <center>0</center></th><th style='border:1px solid black;border-bottom-style: double;color:black;background-color:#BBBBBB'>\n",
       "      <center>1</center></th></tr>\n",
       "<tr><th style='border:1px solid black;color:black;background-color:#BBBBBB;' rowspan = '4'>\n",
       "            <center>0</center></th><th style='border:1px solid black;color:black;background-color:#BBBBBB;' rowspan = '2'>\n",
       "            <center>0</center></th><th style='border:1px solid black;color:black;background-color:#BBBBBB'><center>0</center></th><td style='text-align:right;'>0.0000</td><td style='text-align:right;'>0.0000</td></tr>\n",
       "<tr><th style='border:1px solid black;color:black;background-color:#BBBBBB'><center>1</center></th><td style='text-align:right;'>0.0000</td><td style='text-align:right;'>0.0000</td></tr>\n",
       "<tr><th style='border:1px solid black;color:black;background-color:#BBBBBB;' rowspan = '2'>\n",
       "            <center>1</center></th><th style='border:1px solid black;color:black;background-color:#BBBBBB'><center>0</center></th><td style='text-align:right;'>0.0000</td><td style='text-align:right;'>0.0000</td></tr>\n",
       "<tr><th style='border:1px solid black;color:black;background-color:#BBBBBB'><center>1</center></th><td style='text-align:right;'>0.0000</td><td style='text-align:right;'>0.0000</td></tr>\n",
       "<tr><th style='border:1px solid black;color:black;background-color:#BBBBBB;' rowspan = '4'>\n",
       "            <center>1</center></th><th style='border:1px solid black;color:black;background-color:#BBBBBB;' rowspan = '2'>\n",
       "            <center>0</center></th><th style='border:1px solid black;color:black;background-color:#BBBBBB'><center>0</center></th><td style='text-align:right;'>0.0000</td><td style='text-align:right;'>0.0000</td></tr>\n",
       "<tr><th style='border:1px solid black;color:black;background-color:#BBBBBB'><center>1</center></th><td style='text-align:right;'>0.0000</td><td style='text-align:right;'>0.0000</td></tr>\n",
       "<tr><th style='border:1px solid black;color:black;background-color:#BBBBBB;' rowspan = '2'>\n",
       "            <center>1</center></th><th style='border:1px solid black;color:black;background-color:#BBBBBB'><center>0</center></th><td style='text-align:right;'>0.0000</td><td style='text-align:right;'>0.0000</td></tr>\n",
       "<tr><th style='border:1px solid black;color:black;background-color:#BBBBBB'><center>1</center></th><td style='text-align:right;'>0.0000</td><td style='text-align:right;'>0.0000</td></tr>\n",
       "</table></div><div class=\"floating-box\"><table style=\"border:1px solid black;\">\n",
       "<tr><th colspan='2'></th>\n",
       "      <th colspan='2' style='border:1px solid black;color:black;background-color:#808080;'><center>2-RULE 0 (TID_17 - Data exfiltration from a company asset)</center>\n",
       "      </th></tr>\n",
       "<tr><th style='border:1px solid black;color:black;background-color:#808080'><center>4-webDisclosureVulnerability(company_website,'SQLi')</center></th><th style='border:1px solid black;color:black;background-color:#808080'><center>3-tid17(_)</center></th><th style='border:1px solid black;border-bottom-style: double;color:black;background-color:#BBBBBB'>\n",
       "      <center>0</center></th><th style='border:1px solid black;border-bottom-style: double;color:black;background-color:#BBBBBB'>\n",
       "      <center>1</center></th></tr>\n",
       "<tr><th style='border:1px solid black;color:black;background-color:#BBBBBB;' rowspan = '2'>\n",
       "            <center>0</center></th><th style='border:1px solid black;color:black;background-color:#BBBBBB'><center>0</center></th><td style='text-align:right;'>0.0000</td><td style='text-align:right;'>0.0000</td></tr>\n",
       "<tr><th style='border:1px solid black;color:black;background-color:#BBBBBB'><center>1</center></th><td style='text-align:right;'>0.0000</td><td style='text-align:right;'>0.0000</td></tr>\n",
       "<tr><th style='border:1px solid black;color:black;background-color:#BBBBBB;' rowspan = '2'>\n",
       "            <center>1</center></th><th style='border:1px solid black;color:black;background-color:#BBBBBB'><center>0</center></th><td style='text-align:right;'>0.0000</td><td style='text-align:right;'>0.0000</td></tr>\n",
       "<tr><th style='border:1px solid black;color:black;background-color:#BBBBBB'><center>1</center></th><td style='text-align:right;'>0.0000</td><td style='text-align:right;'>0.0000</td></tr>\n",
       "</table></div><div class=\"floating-box\"><table style=\"border:1px solid black;\">\n",
       "<tr style='border:1px solid black;color:black;background-color:#808080'>\n",
       "      <th colspan='2'><center>8-vulExists(company_website,'SQLi',information_disclosure)</center></th></tr>\n",
       "<tr><th style='border:1px solid black;border-bottom-style: double;color:black;background-color:#BBBBBB'>\n",
       "      <center>0</center></th><th style='border:1px solid black;border-bottom-style: double;color:black;background-color:#BBBBBB'>\n",
       "      <center>1</center></th></tr>\n",
       "<tr><td style='color:black;background-color:#ff7f64;text-align:right;'>0.0000</td><td style='color:black;background-color:#7fff64;text-align:right;'>1.0000</td></tr>\n",
       "</table></div><div class=\"floating-box\"><table style=\"border:1px solid black;\">\n",
       "<tr><th colspan='2'></th>\n",
       "      <th colspan='2' style='border:1px solid black;color:black;background-color:#808080;'><center>10-RULE 1 (TID_17 - Data exfiltration from a company asset)</center>\n",
       "      </th></tr>\n",
       "<tr><th style='border:1px solid black;color:black;background-color:#808080'><center>11-skimmingDevice(internal_attacker,daniel_workstation)</center></th><th style='border:1px solid black;color:black;background-color:#808080'><center>3-tid17(_)</center></th><th style='border:1px solid black;border-bottom-style: double;color:black;background-color:#BBBBBB'>\n",
       "      <center>0</center></th><th style='border:1px solid black;border-bottom-style: double;color:black;background-color:#BBBBBB'>\n",
       "      <center>1</center></th></tr>\n",
       "<tr><th style='border:1px solid black;color:black;background-color:#BBBBBB;' rowspan = '2'>\n",
       "            <center>0</center></th><th style='border:1px solid black;color:black;background-color:#BBBBBB'><center>0</center></th><td style='text-align:right;'>0.0000</td><td style='text-align:right;'>0.0000</td></tr>\n",
       "<tr><th style='border:1px solid black;color:black;background-color:#BBBBBB'><center>1</center></th><td style='text-align:right;'>0.0000</td><td style='text-align:right;'>0.0000</td></tr>\n",
       "<tr><th style='border:1px solid black;color:black;background-color:#BBBBBB;' rowspan = '2'>\n",
       "            <center>1</center></th><th style='border:1px solid black;color:black;background-color:#BBBBBB'><center>0</center></th><td style='text-align:right;'>0.0000</td><td style='text-align:right;'>0.0000</td></tr>\n",
       "<tr><th style='border:1px solid black;color:black;background-color:#BBBBBB'><center>1</center></th><td style='text-align:right;'>0.0000</td><td style='text-align:right;'>0.0000</td></tr>\n",
       "</table></div>"
      ],
      "text/plain": [
       "<IPython.core.display.HTML object>"
      ]
     },
     "metadata": {},
     "output_type": "display_data"
    }
   ],
   "source": [
    "# Bayesian graph generation\n",
    "bn = gum.BayesNet('BayesianThreatGraph')\n",
    "\n",
    "# Arc and nodes population\n",
    "for v in vertices:\n",
    "  bn.add(gum.LabelizedVariable(v.get_name(), v.text, 2))\n",
    "  # bn.add(gum.LabelizedVariable(v.id, v.text, 2))\n",
    "\n",
    "\n",
    "for row in arcs:\n",
    "  bn.addArc(Vertex.find_by_id(\n",
    "      vertices, row[1]), Vertex.find_by_id(vertices, row[0]))\n",
    "\n",
    "# cpt of leaf nodes\n",
    "for v in vertices:\n",
    "  if v.is_leaf():\n",
    "    # cpt of tid nodes\n",
    "    if v.is_tid():\n",
    "      tid_id = v.extract_tid_id().upper().replace('TID', 'TID_')\n",
    "      bn.cpt(v.get_name()).fillWith([1 - thidProb[tid_id], thidProb[tid_id]])\n",
    "      arcsDict[v.id] = thidProb[tid_id]\n",
    "    #TO DO assegnazione fittizia degli altri nodi\n",
    "    else:\n",
    "      # bn.cpt(row[0]).fillWith([0.5,0.5])\n",
    "      bn.cpt(v.get_name()).fillWith([0, 1])\n",
    "      arcsDict[v.id] = 1\n",
    "\n",
    "\n",
    "while invArcsDict.keys():\n",
    "  #lista conetente tutti i stati con la cpt calcolata nella seguente iterazione\n",
    "  assignedState = []\n",
    "\n",
    "  for key in invArcsDict.keys():\n",
    "    print(key)\n",
    "    count = []\n",
    "\n",
    "    #Falg necessario per comprendere se è stata calcolata o meno la probabilità\n",
    "    testFlag = False\n",
    "\n",
    "    #Indivuduazione delle varie componenti che costituiscono la probabilità\n",
    "    for elem in invArcsDict[key]:\n",
    "      #condizione che ci permette di sapere se sappiatmo la p(v) di tutti i nodi genitori\n",
    "      if int(arcsDict[elem]) != -1:\n",
    "        if vertices[int(key) - 1].is_and():\n",
    "          count.append(arcsDict[elem])\n",
    "        if vertices[int(key) - 1].is_or():\n",
    "          count.append(1 - arcsDict[elem])\n",
    "      else:\n",
    "        testFlag = True\n",
    "        break\n",
    "\n",
    "    if testFlag == False:\n",
    "      result = []\n",
    "      #dizionario fondamentale per creare la cpt\n",
    "      randomVariables = {}\n",
    "\n",
    "      #calcolo della probabilità e assegnazione all'interno del dizionario\n",
    "      probability = multiplyList(count)\n",
    "      if vertices[int(key) - 1].is_or():\n",
    "        probability = 1 - probability\n",
    "      #assegnazione della probabilità calcolata all'interno del dizionario\n",
    "      arcsDict[key] = probability\n",
    "\n",
    "      #calcolo di tutte le possibili combinazioni binarie in relazione al numero di genitori del nodo\n",
    "      combination = [list(i) for i in itertools.product(\n",
    "          [0, 1], repeat=len(bn.cpt(Vertex.find_by_id(vertices, key)).var_names[:-1]))]\n",
    "\n",
    "      #crezione di un dizionario da passare come input alla funzione cpt\n",
    "      for var in bn.cpt(Vertex.find_by_id(vertices, key)).var_names[:-1]:\n",
    "        randomVariables[var] = 0\n",
    "      randomVariablesVector = list(randomVariables.keys())\n",
    "\n",
    "      for elem in combination:\n",
    "        #assegnazione della singola combinazione e relativa probabilità in base all'operatore\n",
    "        for iter in range(0, len(elem)):\n",
    "          randomVariables[randomVariablesVector[iter]] = elem[iter]\n",
    "        bn.cpt(Vertex.find_by_id(vertices, key))[randomVariables] = [1, 0]\n",
    "        if vertices[int(key)-1].is_or():\n",
    "          bn.cpt(Vertex.find_by_id(vertices, key))[\n",
    "              randomVariables] = [1-probability, probability]\n",
    "\n",
    "      if vertices[int(key)-1].is_and():\n",
    "        randomVariables = {x: 1 for x in randomVariables}\n",
    "        bn.cpt(Vertex.find_by_id(vertices, key))[\n",
    "            randomVariables] = [1-probability, probability]\n",
    "\n",
    "      if vertices[int(key)-1].is_or():\n",
    "        randomVariables = {x: 0 for x in randomVariables}\n",
    "        bn.cpt(Vertex.find_by_id(vertices, key))[randomVariables] = [1, 0]\n",
    "      assignedState.append(key)\n",
    "      #print(\"complete: \" + str(probability) + \" id: \" + key + \" condition: \" + vertices[int(key)-1][2])\n",
    "\n",
    "  #eliminazione dall'invArcsDict necessaria per permettere di ottenere la condizione di terminazione del ciclo\n",
    "  for item in assignedState:\n",
    "    del invArcsDict[item]\n",
    "\n",
    "gnb.showBN(bn, size=20)\n",
    "gnb.showCPTs(bn)\n"
   ]
  },
  {
   "cell_type": "markdown",
   "metadata": {
    "id": "YdXkdNXv_IpL"
   },
   "source": [
    "# Export BAN\n"
   ]
  },
  {
   "cell_type": "code",
   "execution_count": 218,
   "metadata": {
    "executionInfo": {
     "elapsed": 406,
     "status": "ok",
     "timestamp": 1649881000834,
     "user": {
      "displayName": "Gaetano Perrone",
      "userId": "04518690982825853831"
     },
     "user_tz": -120
    },
    "id": "Mrc1a1ao_UNw"
   },
   "outputs": [],
   "source": [
    "gum.saveBN(bn,\"output.bifxml\")"
   ]
  },
  {
   "cell_type": "markdown",
   "metadata": {
    "id": "3UniS-9MDALE"
   },
   "source": [
    "#  Influence diagram generation\n",
    "- internet attack identification \n",
    "- eliminate unused SC decision node\n",
    "- create utility table "
   ]
  },
  {
   "cell_type": "code",
   "execution_count": 219,
   "metadata": {
    "executionInfo": {
     "elapsed": 418,
     "status": "ok",
     "timestamp": 1649881287757,
     "user": {
      "displayName": "Gaetano Perrone",
      "userId": "04518690982825853831"
     },
     "user_tz": -120
    },
    "id": "MAqpM9Afm98G"
   },
   "outputs": [],
   "source": [
    "#TO CHECK\n",
    "import numpy as np\n",
    "import math\n",
    "\n",
    "\n",
    "def costFunction(x):\n",
    "  m = 10.36163292\n",
    "  q = 0.25216548\n",
    "  return np.exp(m+q*math.log(x))\t\n",
    "\n",
    "assert 314140.16035651864 == costFunction(9000)\n"
   ]
  },
  {
   "cell_type": "markdown",
   "metadata": {
    "id": "MCojsmr3haJa"
   },
   "source": [
    "## Print  loss data function \n",
    "\n"
   ]
  },
  {
   "cell_type": "code",
   "execution_count": 18,
   "metadata": {
    "colab": {
     "base_uri": "https://localhost:8080/",
     "height": 195
    },
    "executionInfo": {
     "elapsed": 1127,
     "status": "ok",
     "timestamp": 1649868804201,
     "user": {
      "displayName": "Gaetano Perrone",
      "userId": "04518690982825853831"
     },
     "user_tz": -120
    },
    "id": "1D2unPsnhfCA",
    "outputId": "ed94cd0c-1fe3-4bb8-89e6-49cf854366db"
   },
   "outputs": [
    {
     "data": {
      "image/svg+xml": "<?xml version=\"1.0\" encoding=\"utf-8\" standalone=\"no\"?>\n<!DOCTYPE svg PUBLIC \"-//W3C//DTD SVG 1.1//EN\"\n  \"http://www.w3.org/Graphics/SVG/1.1/DTD/svg11.dtd\">\n<svg xmlns:xlink=\"http://www.w3.org/1999/xlink\" width=\"373.8pt\" height=\"129.914489pt\" viewBox=\"0 0 373.8 129.914489\" xmlns=\"http://www.w3.org/2000/svg\" version=\"1.1\">\n <metadata>\n  <rdf:RDF xmlns:dc=\"http://purl.org/dc/elements/1.1/\" xmlns:cc=\"http://creativecommons.org/ns#\" xmlns:rdf=\"http://www.w3.org/1999/02/22-rdf-syntax-ns#\">\n   <cc:Work>\n    <dc:type rdf:resource=\"http://purl.org/dc/dcmitype/StillImage\"/>\n    <dc:date>2022-04-14T08:45:06.393099</dc:date>\n    <dc:format>image/svg+xml</dc:format>\n    <dc:creator>\n     <cc:Agent>\n      <dc:title>Matplotlib v3.5.1, https://matplotlib.org/</dc:title>\n     </cc:Agent>\n    </dc:creator>\n   </cc:Work>\n  </rdf:RDF>\n </metadata>\n <defs>\n  <style type=\"text/css\">*{stroke-linejoin: round; stroke-linecap: butt}</style>\n </defs>\n <g id=\"figure_1\">\n  <g id=\"patch_1\">\n   <path d=\"M 0 129.914489 \nL 373.8 129.914489 \nL 373.8 0 \nL 0 0 \nz\n\" style=\"fill: #e0e0e0\"/>\n  </g>\n  <g id=\"axes_1\">\n   <g id=\"patch_2\">\n    <path d=\"M 31.8 106.036364 \nL 366.6 106.036364 \nL 366.6 7.2 \nL 31.8 7.2 \nz\n\" style=\"fill: #ffffff\"/>\n   </g>\n   <g id=\"matplotlib.axis_1\">\n    <g id=\"xtick_1\">\n     <g id=\"line2d_1\">\n      <defs>\n       <path id=\"m8c03d8af96\" d=\"M 0 0 \nL 0 3.5 \n\" style=\"stroke: #000000; stroke-width: 0.8\"/>\n      </defs>\n      <g>\n       <use xlink:href=\"#m8c03d8af96\" x=\"47.018182\" y=\"106.036364\" style=\"stroke: #000000; stroke-width: 0.8\"/>\n      </g>\n     </g>\n     <g id=\"text_1\">\n      <!-- $\\mathdefault{10^{2}}$ -->\n      <g transform=\"translate(38.218182 120.634801)scale(0.1 -0.1)\">\n       <defs>\n        <path id=\"DejaVuSans-31\" d=\"M 794 531 \nL 1825 531 \nL 1825 4091 \nL 703 3866 \nL 703 4441 \nL 1819 4666 \nL 2450 4666 \nL 2450 531 \nL 3481 531 \nL 3481 0 \nL 794 0 \nL 794 531 \nz\n\" transform=\"scale(0.015625)\"/>\n        <path id=\"DejaVuSans-30\" d=\"M 2034 4250 \nQ 1547 4250 1301 3770 \nQ 1056 3291 1056 2328 \nQ 1056 1369 1301 889 \nQ 1547 409 2034 409 \nQ 2525 409 2770 889 \nQ 3016 1369 3016 2328 \nQ 3016 3291 2770 3770 \nQ 2525 4250 2034 4250 \nz\nM 2034 4750 \nQ 2819 4750 3233 4129 \nQ 3647 3509 3647 2328 \nQ 3647 1150 3233 529 \nQ 2819 -91 2034 -91 \nQ 1250 -91 836 529 \nQ 422 1150 422 2328 \nQ 422 3509 836 4129 \nQ 1250 4750 2034 4750 \nz\n\" transform=\"scale(0.015625)\"/>\n        <path id=\"DejaVuSans-32\" d=\"M 1228 531 \nL 3431 531 \nL 3431 0 \nL 469 0 \nL 469 531 \nQ 828 903 1448 1529 \nQ 2069 2156 2228 2338 \nQ 2531 2678 2651 2914 \nQ 2772 3150 2772 3378 \nQ 2772 3750 2511 3984 \nQ 2250 4219 1831 4219 \nQ 1534 4219 1204 4116 \nQ 875 4013 500 3803 \nL 500 4441 \nQ 881 4594 1212 4672 \nQ 1544 4750 1819 4750 \nQ 2544 4750 2975 4387 \nQ 3406 4025 3406 3419 \nQ 3406 3131 3298 2873 \nQ 3191 2616 2906 2266 \nQ 2828 2175 2409 1742 \nQ 1991 1309 1228 531 \nz\n\" transform=\"scale(0.015625)\"/>\n       </defs>\n       <use xlink:href=\"#DejaVuSans-31\" transform=\"translate(0 0.765625)\"/>\n       <use xlink:href=\"#DejaVuSans-30\" transform=\"translate(63.623047 0.765625)\"/>\n       <use xlink:href=\"#DejaVuSans-32\" transform=\"translate(128.203125 39.046875)scale(0.7)\"/>\n      </g>\n     </g>\n    </g>\n    <g id=\"xtick_2\">\n     <g id=\"line2d_2\">\n      <g>\n       <use xlink:href=\"#m8c03d8af96\" x=\"97.78238\" y=\"106.036364\" style=\"stroke: #000000; stroke-width: 0.8\"/>\n      </g>\n     </g>\n     <g id=\"text_2\">\n      <!-- $\\mathdefault{10^{3}}$ -->\n      <g transform=\"translate(88.98238 120.634801)scale(0.1 -0.1)\">\n       <defs>\n        <path id=\"DejaVuSans-33\" d=\"M 2597 2516 \nQ 3050 2419 3304 2112 \nQ 3559 1806 3559 1356 \nQ 3559 666 3084 287 \nQ 2609 -91 1734 -91 \nQ 1441 -91 1130 -33 \nQ 819 25 488 141 \nL 488 750 \nQ 750 597 1062 519 \nQ 1375 441 1716 441 \nQ 2309 441 2620 675 \nQ 2931 909 2931 1356 \nQ 2931 1769 2642 2001 \nQ 2353 2234 1838 2234 \nL 1294 2234 \nL 1294 2753 \nL 1863 2753 \nQ 2328 2753 2575 2939 \nQ 2822 3125 2822 3475 \nQ 2822 3834 2567 4026 \nQ 2313 4219 1838 4219 \nQ 1578 4219 1281 4162 \nQ 984 4106 628 3988 \nL 628 4550 \nQ 988 4650 1302 4700 \nQ 1616 4750 1894 4750 \nQ 2613 4750 3031 4423 \nQ 3450 4097 3450 3541 \nQ 3450 3153 3228 2886 \nQ 3006 2619 2597 2516 \nz\n\" transform=\"scale(0.015625)\"/>\n       </defs>\n       <use xlink:href=\"#DejaVuSans-31\" transform=\"translate(0 0.765625)\"/>\n       <use xlink:href=\"#DejaVuSans-30\" transform=\"translate(63.623047 0.765625)\"/>\n       <use xlink:href=\"#DejaVuSans-33\" transform=\"translate(128.203125 39.046875)scale(0.7)\"/>\n      </g>\n     </g>\n    </g>\n    <g id=\"xtick_3\">\n     <g id=\"line2d_3\">\n      <g>\n       <use xlink:href=\"#m8c03d8af96\" x=\"148.546578\" y=\"106.036364\" style=\"stroke: #000000; stroke-width: 0.8\"/>\n      </g>\n     </g>\n     <g id=\"text_3\">\n      <!-- $\\mathdefault{10^{4}}$ -->\n      <g transform=\"translate(139.746578 120.634801)scale(0.1 -0.1)\">\n       <defs>\n        <path id=\"DejaVuSans-34\" d=\"M 2419 4116 \nL 825 1625 \nL 2419 1625 \nL 2419 4116 \nz\nM 2253 4666 \nL 3047 4666 \nL 3047 1625 \nL 3713 1625 \nL 3713 1100 \nL 3047 1100 \nL 3047 0 \nL 2419 0 \nL 2419 1100 \nL 313 1100 \nL 313 1709 \nL 2253 4666 \nz\n\" transform=\"scale(0.015625)\"/>\n       </defs>\n       <use xlink:href=\"#DejaVuSans-31\" transform=\"translate(0 0.684375)\"/>\n       <use xlink:href=\"#DejaVuSans-30\" transform=\"translate(63.623047 0.684375)\"/>\n       <use xlink:href=\"#DejaVuSans-34\" transform=\"translate(128.203125 38.965625)scale(0.7)\"/>\n      </g>\n     </g>\n    </g>\n    <g id=\"xtick_4\">\n     <g id=\"line2d_4\">\n      <g>\n       <use xlink:href=\"#m8c03d8af96\" x=\"199.310777\" y=\"106.036364\" style=\"stroke: #000000; stroke-width: 0.8\"/>\n      </g>\n     </g>\n     <g id=\"text_4\">\n      <!-- $\\mathdefault{10^{5}}$ -->\n      <g transform=\"translate(190.510777 120.634801)scale(0.1 -0.1)\">\n       <defs>\n        <path id=\"DejaVuSans-35\" d=\"M 691 4666 \nL 3169 4666 \nL 3169 4134 \nL 1269 4134 \nL 1269 2991 \nQ 1406 3038 1543 3061 \nQ 1681 3084 1819 3084 \nQ 2600 3084 3056 2656 \nQ 3513 2228 3513 1497 \nQ 3513 744 3044 326 \nQ 2575 -91 1722 -91 \nQ 1428 -91 1123 -41 \nQ 819 9 494 109 \nL 494 744 \nQ 775 591 1075 516 \nQ 1375 441 1709 441 \nQ 2250 441 2565 725 \nQ 2881 1009 2881 1497 \nQ 2881 1984 2565 2268 \nQ 2250 2553 1709 2553 \nQ 1456 2553 1204 2497 \nQ 953 2441 691 2322 \nL 691 4666 \nz\n\" transform=\"scale(0.015625)\"/>\n       </defs>\n       <use xlink:href=\"#DejaVuSans-31\" transform=\"translate(0 0.684375)\"/>\n       <use xlink:href=\"#DejaVuSans-30\" transform=\"translate(63.623047 0.684375)\"/>\n       <use xlink:href=\"#DejaVuSans-35\" transform=\"translate(128.203125 38.965625)scale(0.7)\"/>\n      </g>\n     </g>\n    </g>\n    <g id=\"xtick_5\">\n     <g id=\"line2d_5\">\n      <g>\n       <use xlink:href=\"#m8c03d8af96\" x=\"250.074975\" y=\"106.036364\" style=\"stroke: #000000; stroke-width: 0.8\"/>\n      </g>\n     </g>\n     <g id=\"text_5\">\n      <!-- $\\mathdefault{10^{6}}$ -->\n      <g transform=\"translate(241.274975 120.634801)scale(0.1 -0.1)\">\n       <defs>\n        <path id=\"DejaVuSans-36\" d=\"M 2113 2584 \nQ 1688 2584 1439 2293 \nQ 1191 2003 1191 1497 \nQ 1191 994 1439 701 \nQ 1688 409 2113 409 \nQ 2538 409 2786 701 \nQ 3034 994 3034 1497 \nQ 3034 2003 2786 2293 \nQ 2538 2584 2113 2584 \nz\nM 3366 4563 \nL 3366 3988 \nQ 3128 4100 2886 4159 \nQ 2644 4219 2406 4219 \nQ 1781 4219 1451 3797 \nQ 1122 3375 1075 2522 \nQ 1259 2794 1537 2939 \nQ 1816 3084 2150 3084 \nQ 2853 3084 3261 2657 \nQ 3669 2231 3669 1497 \nQ 3669 778 3244 343 \nQ 2819 -91 2113 -91 \nQ 1303 -91 875 529 \nQ 447 1150 447 2328 \nQ 447 3434 972 4092 \nQ 1497 4750 2381 4750 \nQ 2619 4750 2861 4703 \nQ 3103 4656 3366 4563 \nz\n\" transform=\"scale(0.015625)\"/>\n       </defs>\n       <use xlink:href=\"#DejaVuSans-31\" transform=\"translate(0 0.765625)\"/>\n       <use xlink:href=\"#DejaVuSans-30\" transform=\"translate(63.623047 0.765625)\"/>\n       <use xlink:href=\"#DejaVuSans-36\" transform=\"translate(128.203125 39.046875)scale(0.7)\"/>\n      </g>\n     </g>\n    </g>\n    <g id=\"xtick_6\">\n     <g id=\"line2d_6\">\n      <g>\n       <use xlink:href=\"#m8c03d8af96\" x=\"300.839173\" y=\"106.036364\" style=\"stroke: #000000; stroke-width: 0.8\"/>\n      </g>\n     </g>\n     <g id=\"text_6\">\n      <!-- $\\mathdefault{10^{7}}$ -->\n      <g transform=\"translate(292.039173 120.634801)scale(0.1 -0.1)\">\n       <defs>\n        <path id=\"DejaVuSans-37\" d=\"M 525 4666 \nL 3525 4666 \nL 3525 4397 \nL 1831 0 \nL 1172 0 \nL 2766 4134 \nL 525 4134 \nL 525 4666 \nz\n\" transform=\"scale(0.015625)\"/>\n       </defs>\n       <use xlink:href=\"#DejaVuSans-31\" transform=\"translate(0 0.684375)\"/>\n       <use xlink:href=\"#DejaVuSans-30\" transform=\"translate(63.623047 0.684375)\"/>\n       <use xlink:href=\"#DejaVuSans-37\" transform=\"translate(128.203125 38.965625)scale(0.7)\"/>\n      </g>\n     </g>\n    </g>\n    <g id=\"xtick_7\">\n     <g id=\"line2d_7\">\n      <g>\n       <use xlink:href=\"#m8c03d8af96\" x=\"351.603372\" y=\"106.036364\" style=\"stroke: #000000; stroke-width: 0.8\"/>\n      </g>\n     </g>\n     <g id=\"text_7\">\n      <!-- $\\mathdefault{10^{8}}$ -->\n      <g transform=\"translate(342.803372 120.634801)scale(0.1 -0.1)\">\n       <defs>\n        <path id=\"DejaVuSans-38\" d=\"M 2034 2216 \nQ 1584 2216 1326 1975 \nQ 1069 1734 1069 1313 \nQ 1069 891 1326 650 \nQ 1584 409 2034 409 \nQ 2484 409 2743 651 \nQ 3003 894 3003 1313 \nQ 3003 1734 2745 1975 \nQ 2488 2216 2034 2216 \nz\nM 1403 2484 \nQ 997 2584 770 2862 \nQ 544 3141 544 3541 \nQ 544 4100 942 4425 \nQ 1341 4750 2034 4750 \nQ 2731 4750 3128 4425 \nQ 3525 4100 3525 3541 \nQ 3525 3141 3298 2862 \nQ 3072 2584 2669 2484 \nQ 3125 2378 3379 2068 \nQ 3634 1759 3634 1313 \nQ 3634 634 3220 271 \nQ 2806 -91 2034 -91 \nQ 1263 -91 848 271 \nQ 434 634 434 1313 \nQ 434 1759 690 2068 \nQ 947 2378 1403 2484 \nz\nM 1172 3481 \nQ 1172 3119 1398 2916 \nQ 1625 2713 2034 2713 \nQ 2441 2713 2670 2916 \nQ 2900 3119 2900 3481 \nQ 2900 3844 2670 4047 \nQ 2441 4250 2034 4250 \nQ 1625 4250 1398 4047 \nQ 1172 3844 1172 3481 \nz\n\" transform=\"scale(0.015625)\"/>\n       </defs>\n       <use xlink:href=\"#DejaVuSans-31\" transform=\"translate(0 0.765625)\"/>\n       <use xlink:href=\"#DejaVuSans-30\" transform=\"translate(63.623047 0.765625)\"/>\n       <use xlink:href=\"#DejaVuSans-38\" transform=\"translate(128.203125 39.046875)scale(0.7)\"/>\n      </g>\n     </g>\n    </g>\n    <g id=\"xtick_8\">\n     <g id=\"line2d_8\">\n      <defs>\n       <path id=\"m1ba3758d1d\" d=\"M 0 0 \nL 0 2 \n\" style=\"stroke: #000000; stroke-width: 0.6\"/>\n      </defs>\n      <g>\n       <use xlink:href=\"#m1ba3758d1d\" x=\"35.756208\" y=\"106.036364\" style=\"stroke: #000000; stroke-width: 0.6\"/>\n      </g>\n     </g>\n    </g>\n    <g id=\"xtick_9\">\n     <g id=\"line2d_9\">\n      <g>\n       <use xlink:href=\"#m1ba3758d1d\" x=\"39.154708\" y=\"106.036364\" style=\"stroke: #000000; stroke-width: 0.6\"/>\n      </g>\n     </g>\n    </g>\n    <g id=\"xtick_10\">\n     <g id=\"line2d_10\">\n      <g>\n       <use xlink:href=\"#m1ba3758d1d\" x=\"42.098623\" y=\"106.036364\" style=\"stroke: #000000; stroke-width: 0.6\"/>\n      </g>\n     </g>\n    </g>\n    <g id=\"xtick_11\">\n     <g id=\"line2d_11\">\n      <g>\n       <use xlink:href=\"#m1ba3758d1d\" x=\"44.695339\" y=\"106.036364\" style=\"stroke: #000000; stroke-width: 0.6\"/>\n      </g>\n     </g>\n    </g>\n    <g id=\"xtick_12\">\n     <g id=\"line2d_12\">\n      <g>\n       <use xlink:href=\"#m1ba3758d1d\" x=\"62.299728\" y=\"106.036364\" style=\"stroke: #000000; stroke-width: 0.6\"/>\n      </g>\n     </g>\n    </g>\n    <g id=\"xtick_13\">\n     <g id=\"line2d_13\">\n      <g>\n       <use xlink:href=\"#m1ba3758d1d\" x=\"71.23886\" y=\"106.036364\" style=\"stroke: #000000; stroke-width: 0.6\"/>\n      </g>\n     </g>\n    </g>\n    <g id=\"xtick_14\">\n     <g id=\"line2d_14\">\n      <g>\n       <use xlink:href=\"#m1ba3758d1d\" x=\"77.581275\" y=\"106.036364\" style=\"stroke: #000000; stroke-width: 0.6\"/>\n      </g>\n     </g>\n    </g>\n    <g id=\"xtick_15\">\n     <g id=\"line2d_15\">\n      <g>\n       <use xlink:href=\"#m1ba3758d1d\" x=\"82.500834\" y=\"106.036364\" style=\"stroke: #000000; stroke-width: 0.6\"/>\n      </g>\n     </g>\n    </g>\n    <g id=\"xtick_16\">\n     <g id=\"line2d_16\">\n      <g>\n       <use xlink:href=\"#m1ba3758d1d\" x=\"86.520406\" y=\"106.036364\" style=\"stroke: #000000; stroke-width: 0.6\"/>\n      </g>\n     </g>\n    </g>\n    <g id=\"xtick_17\">\n     <g id=\"line2d_17\">\n      <g>\n       <use xlink:href=\"#m1ba3758d1d\" x=\"89.918906\" y=\"106.036364\" style=\"stroke: #000000; stroke-width: 0.6\"/>\n      </g>\n     </g>\n    </g>\n    <g id=\"xtick_18\">\n     <g id=\"line2d_18\">\n      <g>\n       <use xlink:href=\"#m1ba3758d1d\" x=\"92.862821\" y=\"106.036364\" style=\"stroke: #000000; stroke-width: 0.6\"/>\n      </g>\n     </g>\n    </g>\n    <g id=\"xtick_19\">\n     <g id=\"line2d_19\">\n      <g>\n       <use xlink:href=\"#m1ba3758d1d\" x=\"95.459538\" y=\"106.036364\" style=\"stroke: #000000; stroke-width: 0.6\"/>\n      </g>\n     </g>\n    </g>\n    <g id=\"xtick_20\">\n     <g id=\"line2d_20\">\n      <g>\n       <use xlink:href=\"#m1ba3758d1d\" x=\"113.063927\" y=\"106.036364\" style=\"stroke: #000000; stroke-width: 0.6\"/>\n      </g>\n     </g>\n    </g>\n    <g id=\"xtick_21\">\n     <g id=\"line2d_21\">\n      <g>\n       <use xlink:href=\"#m1ba3758d1d\" x=\"122.003058\" y=\"106.036364\" style=\"stroke: #000000; stroke-width: 0.6\"/>\n      </g>\n     </g>\n    </g>\n    <g id=\"xtick_22\">\n     <g id=\"line2d_22\">\n      <g>\n       <use xlink:href=\"#m1ba3758d1d\" x=\"128.345473\" y=\"106.036364\" style=\"stroke: #000000; stroke-width: 0.6\"/>\n      </g>\n     </g>\n    </g>\n    <g id=\"xtick_23\">\n     <g id=\"line2d_23\">\n      <g>\n       <use xlink:href=\"#m1ba3758d1d\" x=\"133.265032\" y=\"106.036364\" style=\"stroke: #000000; stroke-width: 0.6\"/>\n      </g>\n     </g>\n    </g>\n    <g id=\"xtick_24\">\n     <g id=\"line2d_24\">\n      <g>\n       <use xlink:href=\"#m1ba3758d1d\" x=\"137.284605\" y=\"106.036364\" style=\"stroke: #000000; stroke-width: 0.6\"/>\n      </g>\n     </g>\n    </g>\n    <g id=\"xtick_25\">\n     <g id=\"line2d_25\">\n      <g>\n       <use xlink:href=\"#m1ba3758d1d\" x=\"140.683105\" y=\"106.036364\" style=\"stroke: #000000; stroke-width: 0.6\"/>\n      </g>\n     </g>\n    </g>\n    <g id=\"xtick_26\">\n     <g id=\"line2d_26\">\n      <g>\n       <use xlink:href=\"#m1ba3758d1d\" x=\"143.627019\" y=\"106.036364\" style=\"stroke: #000000; stroke-width: 0.6\"/>\n      </g>\n     </g>\n    </g>\n    <g id=\"xtick_27\">\n     <g id=\"line2d_27\">\n      <g>\n       <use xlink:href=\"#m1ba3758d1d\" x=\"146.223736\" y=\"106.036364\" style=\"stroke: #000000; stroke-width: 0.6\"/>\n      </g>\n     </g>\n    </g>\n    <g id=\"xtick_28\">\n     <g id=\"line2d_28\">\n      <g>\n       <use xlink:href=\"#m1ba3758d1d\" x=\"163.828125\" y=\"106.036364\" style=\"stroke: #000000; stroke-width: 0.6\"/>\n      </g>\n     </g>\n    </g>\n    <g id=\"xtick_29\">\n     <g id=\"line2d_29\">\n      <g>\n       <use xlink:href=\"#m1ba3758d1d\" x=\"172.767256\" y=\"106.036364\" style=\"stroke: #000000; stroke-width: 0.6\"/>\n      </g>\n     </g>\n    </g>\n    <g id=\"xtick_30\">\n     <g id=\"line2d_30\">\n      <g>\n       <use xlink:href=\"#m1ba3758d1d\" x=\"179.109671\" y=\"106.036364\" style=\"stroke: #000000; stroke-width: 0.6\"/>\n      </g>\n     </g>\n    </g>\n    <g id=\"xtick_31\">\n     <g id=\"line2d_31\">\n      <g>\n       <use xlink:href=\"#m1ba3758d1d\" x=\"184.02923\" y=\"106.036364\" style=\"stroke: #000000; stroke-width: 0.6\"/>\n      </g>\n     </g>\n    </g>\n    <g id=\"xtick_32\">\n     <g id=\"line2d_32\">\n      <g>\n       <use xlink:href=\"#m1ba3758d1d\" x=\"188.048803\" y=\"106.036364\" style=\"stroke: #000000; stroke-width: 0.6\"/>\n      </g>\n     </g>\n    </g>\n    <g id=\"xtick_33\">\n     <g id=\"line2d_33\">\n      <g>\n       <use xlink:href=\"#m1ba3758d1d\" x=\"191.447303\" y=\"106.036364\" style=\"stroke: #000000; stroke-width: 0.6\"/>\n      </g>\n     </g>\n    </g>\n    <g id=\"xtick_34\">\n     <g id=\"line2d_34\">\n      <g>\n       <use xlink:href=\"#m1ba3758d1d\" x=\"194.391218\" y=\"106.036364\" style=\"stroke: #000000; stroke-width: 0.6\"/>\n      </g>\n     </g>\n    </g>\n    <g id=\"xtick_35\">\n     <g id=\"line2d_35\">\n      <g>\n       <use xlink:href=\"#m1ba3758d1d\" x=\"196.987934\" y=\"106.036364\" style=\"stroke: #000000; stroke-width: 0.6\"/>\n      </g>\n     </g>\n    </g>\n    <g id=\"xtick_36\">\n     <g id=\"line2d_36\">\n      <g>\n       <use xlink:href=\"#m1ba3758d1d\" x=\"214.592323\" y=\"106.036364\" style=\"stroke: #000000; stroke-width: 0.6\"/>\n      </g>\n     </g>\n    </g>\n    <g id=\"xtick_37\">\n     <g id=\"line2d_37\">\n      <g>\n       <use xlink:href=\"#m1ba3758d1d\" x=\"223.531455\" y=\"106.036364\" style=\"stroke: #000000; stroke-width: 0.6\"/>\n      </g>\n     </g>\n    </g>\n    <g id=\"xtick_38\">\n     <g id=\"line2d_38\">\n      <g>\n       <use xlink:href=\"#m1ba3758d1d\" x=\"229.87387\" y=\"106.036364\" style=\"stroke: #000000; stroke-width: 0.6\"/>\n      </g>\n     </g>\n    </g>\n    <g id=\"xtick_39\">\n     <g id=\"line2d_39\">\n      <g>\n       <use xlink:href=\"#m1ba3758d1d\" x=\"234.793429\" y=\"106.036364\" style=\"stroke: #000000; stroke-width: 0.6\"/>\n      </g>\n     </g>\n    </g>\n    <g id=\"xtick_40\">\n     <g id=\"line2d_40\">\n      <g>\n       <use xlink:href=\"#m1ba3758d1d\" x=\"238.813001\" y=\"106.036364\" style=\"stroke: #000000; stroke-width: 0.6\"/>\n      </g>\n     </g>\n    </g>\n    <g id=\"xtick_41\">\n     <g id=\"line2d_41\">\n      <g>\n       <use xlink:href=\"#m1ba3758d1d\" x=\"242.211501\" y=\"106.036364\" style=\"stroke: #000000; stroke-width: 0.6\"/>\n      </g>\n     </g>\n    </g>\n    <g id=\"xtick_42\">\n     <g id=\"line2d_42\">\n      <g>\n       <use xlink:href=\"#m1ba3758d1d\" x=\"245.155416\" y=\"106.036364\" style=\"stroke: #000000; stroke-width: 0.6\"/>\n      </g>\n     </g>\n    </g>\n    <g id=\"xtick_43\">\n     <g id=\"line2d_43\">\n      <g>\n       <use xlink:href=\"#m1ba3758d1d\" x=\"247.752133\" y=\"106.036364\" style=\"stroke: #000000; stroke-width: 0.6\"/>\n      </g>\n     </g>\n    </g>\n    <g id=\"xtick_44\">\n     <g id=\"line2d_44\">\n      <g>\n       <use xlink:href=\"#m1ba3758d1d\" x=\"265.356522\" y=\"106.036364\" style=\"stroke: #000000; stroke-width: 0.6\"/>\n      </g>\n     </g>\n    </g>\n    <g id=\"xtick_45\">\n     <g id=\"line2d_45\">\n      <g>\n       <use xlink:href=\"#m1ba3758d1d\" x=\"274.295653\" y=\"106.036364\" style=\"stroke: #000000; stroke-width: 0.6\"/>\n      </g>\n     </g>\n    </g>\n    <g id=\"xtick_46\">\n     <g id=\"line2d_46\">\n      <g>\n       <use xlink:href=\"#m1ba3758d1d\" x=\"280.638068\" y=\"106.036364\" style=\"stroke: #000000; stroke-width: 0.6\"/>\n      </g>\n     </g>\n    </g>\n    <g id=\"xtick_47\">\n     <g id=\"line2d_47\">\n      <g>\n       <use xlink:href=\"#m1ba3758d1d\" x=\"285.557627\" y=\"106.036364\" style=\"stroke: #000000; stroke-width: 0.6\"/>\n      </g>\n     </g>\n    </g>\n    <g id=\"xtick_48\">\n     <g id=\"line2d_48\">\n      <g>\n       <use xlink:href=\"#m1ba3758d1d\" x=\"289.5772\" y=\"106.036364\" style=\"stroke: #000000; stroke-width: 0.6\"/>\n      </g>\n     </g>\n    </g>\n    <g id=\"xtick_49\">\n     <g id=\"line2d_49\">\n      <g>\n       <use xlink:href=\"#m1ba3758d1d\" x=\"292.9757\" y=\"106.036364\" style=\"stroke: #000000; stroke-width: 0.6\"/>\n      </g>\n     </g>\n    </g>\n    <g id=\"xtick_50\">\n     <g id=\"line2d_50\">\n      <g>\n       <use xlink:href=\"#m1ba3758d1d\" x=\"295.919614\" y=\"106.036364\" style=\"stroke: #000000; stroke-width: 0.6\"/>\n      </g>\n     </g>\n    </g>\n    <g id=\"xtick_51\">\n     <g id=\"line2d_51\">\n      <g>\n       <use xlink:href=\"#m1ba3758d1d\" x=\"298.516331\" y=\"106.036364\" style=\"stroke: #000000; stroke-width: 0.6\"/>\n      </g>\n     </g>\n    </g>\n    <g id=\"xtick_52\">\n     <g id=\"line2d_52\">\n      <g>\n       <use xlink:href=\"#m1ba3758d1d\" x=\"316.12072\" y=\"106.036364\" style=\"stroke: #000000; stroke-width: 0.6\"/>\n      </g>\n     </g>\n    </g>\n    <g id=\"xtick_53\">\n     <g id=\"line2d_53\">\n      <g>\n       <use xlink:href=\"#m1ba3758d1d\" x=\"325.059851\" y=\"106.036364\" style=\"stroke: #000000; stroke-width: 0.6\"/>\n      </g>\n     </g>\n    </g>\n    <g id=\"xtick_54\">\n     <g id=\"line2d_54\">\n      <g>\n       <use xlink:href=\"#m1ba3758d1d\" x=\"331.402266\" y=\"106.036364\" style=\"stroke: #000000; stroke-width: 0.6\"/>\n      </g>\n     </g>\n    </g>\n    <g id=\"xtick_55\">\n     <g id=\"line2d_55\">\n      <g>\n       <use xlink:href=\"#m1ba3758d1d\" x=\"336.321825\" y=\"106.036364\" style=\"stroke: #000000; stroke-width: 0.6\"/>\n      </g>\n     </g>\n    </g>\n    <g id=\"xtick_56\">\n     <g id=\"line2d_56\">\n      <g>\n       <use xlink:href=\"#m1ba3758d1d\" x=\"340.341398\" y=\"106.036364\" style=\"stroke: #000000; stroke-width: 0.6\"/>\n      </g>\n     </g>\n    </g>\n    <g id=\"xtick_57\">\n     <g id=\"line2d_57\">\n      <g>\n       <use xlink:href=\"#m1ba3758d1d\" x=\"343.739898\" y=\"106.036364\" style=\"stroke: #000000; stroke-width: 0.6\"/>\n      </g>\n     </g>\n    </g>\n    <g id=\"xtick_58\">\n     <g id=\"line2d_58\">\n      <g>\n       <use xlink:href=\"#m1ba3758d1d\" x=\"346.683813\" y=\"106.036364\" style=\"stroke: #000000; stroke-width: 0.6\"/>\n      </g>\n     </g>\n    </g>\n    <g id=\"xtick_59\">\n     <g id=\"line2d_59\">\n      <g>\n       <use xlink:href=\"#m1ba3758d1d\" x=\"349.280529\" y=\"106.036364\" style=\"stroke: #000000; stroke-width: 0.6\"/>\n      </g>\n     </g>\n    </g>\n   </g>\n   <g id=\"matplotlib.axis_2\">\n    <g id=\"ytick_1\">\n     <g id=\"line2d_60\">\n      <defs>\n       <path id=\"md57d3dd832\" d=\"M 0 0 \nL -3.5 0 \n\" style=\"stroke: #000000; stroke-width: 0.8\"/>\n      </defs>\n      <g>\n       <use xlink:href=\"#md57d3dd832\" x=\"31.8\" y=\"101.801189\" style=\"stroke: #000000; stroke-width: 0.8\"/>\n      </g>\n     </g>\n     <g id=\"text_8\">\n      <!-- $\\mathdefault{10^{5}}$ -->\n      <g transform=\"translate(7.2 105.600408)scale(0.1 -0.1)\">\n       <use xlink:href=\"#DejaVuSans-31\" transform=\"translate(0 0.684375)\"/>\n       <use xlink:href=\"#DejaVuSans-30\" transform=\"translate(63.623047 0.684375)\"/>\n       <use xlink:href=\"#DejaVuSans-35\" transform=\"translate(128.203125 38.965625)scale(0.7)\"/>\n      </g>\n     </g>\n    </g>\n    <g id=\"ytick_2\">\n     <g id=\"line2d_61\">\n      <g>\n       <use xlink:href=\"#md57d3dd832\" x=\"31.8\" y=\"42.371534\" style=\"stroke: #000000; stroke-width: 0.8\"/>\n      </g>\n     </g>\n     <g id=\"text_9\">\n      <!-- $\\mathdefault{10^{6}}$ -->\n      <g transform=\"translate(7.2 46.170753)scale(0.1 -0.1)\">\n       <use xlink:href=\"#DejaVuSans-31\" transform=\"translate(0 0.765625)\"/>\n       <use xlink:href=\"#DejaVuSans-30\" transform=\"translate(63.623047 0.765625)\"/>\n       <use xlink:href=\"#DejaVuSans-36\" transform=\"translate(128.203125 39.046875)scale(0.7)\"/>\n      </g>\n     </g>\n    </g>\n    <g id=\"ytick_3\">\n     <g id=\"line2d_62\">\n      <defs>\n       <path id=\"m213244a458\" d=\"M 0 0 \nL -2 0 \n\" style=\"stroke: #000000; stroke-width: 0.6\"/>\n      </defs>\n      <g>\n       <use xlink:href=\"#m213244a458\" x=\"31.8\" y=\"104.520541\" style=\"stroke: #000000; stroke-width: 0.6\"/>\n      </g>\n     </g>\n    </g>\n    <g id=\"ytick_4\">\n     <g id=\"line2d_63\">\n      <g>\n       <use xlink:href=\"#m213244a458\" x=\"31.8\" y=\"83.91108\" style=\"stroke: #000000; stroke-width: 0.6\"/>\n      </g>\n     </g>\n    </g>\n    <g id=\"ytick_5\">\n     <g id=\"line2d_64\">\n      <g>\n       <use xlink:href=\"#m213244a458\" x=\"31.8\" y=\"73.446038\" style=\"stroke: #000000; stroke-width: 0.6\"/>\n      </g>\n     </g>\n    </g>\n    <g id=\"ytick_6\">\n     <g id=\"line2d_65\">\n      <g>\n       <use xlink:href=\"#m213244a458\" x=\"31.8\" y=\"66.020972\" style=\"stroke: #000000; stroke-width: 0.6\"/>\n      </g>\n     </g>\n    </g>\n    <g id=\"ytick_7\">\n     <g id=\"line2d_66\">\n      <g>\n       <use xlink:href=\"#m213244a458\" x=\"31.8\" y=\"60.261643\" style=\"stroke: #000000; stroke-width: 0.6\"/>\n      </g>\n     </g>\n    </g>\n    <g id=\"ytick_8\">\n     <g id=\"line2d_67\">\n      <g>\n       <use xlink:href=\"#m213244a458\" x=\"31.8\" y=\"55.555929\" style=\"stroke: #000000; stroke-width: 0.6\"/>\n      </g>\n     </g>\n    </g>\n    <g id=\"ytick_9\">\n     <g id=\"line2d_68\">\n      <g>\n       <use xlink:href=\"#m213244a458\" x=\"31.8\" y=\"51.577304\" style=\"stroke: #000000; stroke-width: 0.6\"/>\n      </g>\n     </g>\n    </g>\n    <g id=\"ytick_10\">\n     <g id=\"line2d_69\">\n      <g>\n       <use xlink:href=\"#m213244a458\" x=\"31.8\" y=\"48.130863\" style=\"stroke: #000000; stroke-width: 0.6\"/>\n      </g>\n     </g>\n    </g>\n    <g id=\"ytick_11\">\n     <g id=\"line2d_70\">\n      <g>\n       <use xlink:href=\"#m213244a458\" x=\"31.8\" y=\"45.090886\" style=\"stroke: #000000; stroke-width: 0.6\"/>\n      </g>\n     </g>\n    </g>\n    <g id=\"ytick_12\">\n     <g id=\"line2d_71\">\n      <g>\n       <use xlink:href=\"#m213244a458\" x=\"31.8\" y=\"24.481426\" style=\"stroke: #000000; stroke-width: 0.6\"/>\n      </g>\n     </g>\n    </g>\n    <g id=\"ytick_13\">\n     <g id=\"line2d_72\">\n      <g>\n       <use xlink:href=\"#m213244a458\" x=\"31.8\" y=\"14.016383\" style=\"stroke: #000000; stroke-width: 0.6\"/>\n      </g>\n     </g>\n    </g>\n   </g>\n   <g id=\"line2d_73\">\n    <path d=\"M 47.018182 101.543802 \nL 250.07718 41.598721 \nL 265.357624 37.087779 \nL 274.296388 34.448965 \nL 280.638619 32.576674 \nL 285.558068 31.124402 \nL 289.577567 29.937805 \nL 292.976015 28.934549 \nL 295.91989 28.065487 \nL 298.516576 27.298919 \nL 300.839394 26.613199 \nL 302.94064 25.99289 \nL 304.85893 25.426592 \nL 306.623586 24.905647 \nL 308.257403 24.423328 \nL 309.778452 23.974299 \nL 311.201299 23.55426 \nL 312.537858 23.159694 \nL 313.798 22.787687 \nL 314.989993 22.435799 \nL 316.12083 22.101964 \nL 317.196483 21.784421 \nL 318.222087 21.481652 \nL 319.202093 21.192344 \nL 320.140384 20.915351 \nL 321.040367 20.649667 \nL 321.905048 20.394404 \nL 322.737091 20.148777 \nL 323.538871 19.912083 \nL 324.312513 19.683696 \nL 325.059925 19.463052 \nL 325.782827 19.249644 \nL 326.482776 19.043012 \nL 327.161185 18.842739 \nL 327.819339 18.648445 \nL 328.458415 18.459784 \nL 329.079485 18.276437 \nL 329.683538 18.098115 \nL 330.271481 17.924548 \nL 330.844151 17.75549 \nL 331.402321 17.590713 \nL 331.946708 17.430004 \nL 332.477977 17.273168 \nL 332.996743 17.120023 \nL 333.503583 16.970399 \nL 333.999032 16.824137 \nL 334.483591 16.68109 \nL 334.957729 16.54112 \nL 335.421885 16.404097 \nL 335.876469 16.269899 \nL 336.321869 16.138412 \nL 336.758449 16.009529 \nL 337.186552 15.883149 \nL 337.606499 15.759176 \nL 338.018596 15.637521 \nL 338.423132 15.518098 \nL 338.820378 15.400827 \nL 339.210593 15.285631 \nL 339.594022 15.172439 \nL 339.970895 15.061182 \nL 340.341435 14.951795 \nL 340.705849 14.844217 \nL 341.064338 14.738387 \nL 341.417091 14.634251 \nL 341.764288 14.531755 \nL 342.106102 14.430848 \nL 342.442698 14.331481 \nL 342.774231 14.233609 \nL 343.100853 14.137187 \nL 343.422707 14.042173 \nL 343.739929 13.948525 \nL 344.052652 13.856206 \nL 344.361001 13.765179 \nL 344.665097 13.675406 \nL 344.965055 13.586856 \nL 345.260986 13.499494 \nL 345.552998 13.413289 \nL 345.841193 13.328211 \nL 346.125669 13.244231 \nL 346.406521 13.16132 \nL 346.68384 13.079453 \nL 346.957714 12.998602 \nL 347.228228 12.918744 \nL 347.495463 12.839854 \nL 347.759497 12.761908 \nL 348.020406 12.684885 \nL 348.278264 12.608763 \nL 348.53314 12.533521 \nL 348.785104 12.459138 \nL 349.034221 12.385597 \nL 349.280554 12.312877 \nL 349.524165 12.24096 \nL 349.765114 12.16983 \nL 350.003458 12.099468 \nL 350.239252 12.029859 \nL 350.472552 11.960987 \nL 350.703408 11.892836 \nL 350.931872 11.825391 \nL 351.157993 11.758637 \nL 351.381818 11.692562 \n\" clip-path=\"url(#p028c1a6a46)\" style=\"fill: none; stroke: #0000ff; stroke-width: 2; stroke-linecap: square\"/>\n   </g>\n   <g id=\"patch_3\">\n    <path d=\"M 31.8 106.036364 \nL 31.8 7.2 \n\" style=\"fill: none; stroke: #000000; stroke-width: 0.8; stroke-linejoin: miter; stroke-linecap: square\"/>\n   </g>\n   <g id=\"patch_4\">\n    <path d=\"M 366.6 106.036364 \nL 366.6 7.2 \n\" style=\"fill: none; stroke: #000000; stroke-width: 0.8; stroke-linejoin: miter; stroke-linecap: square\"/>\n   </g>\n   <g id=\"patch_5\">\n    <path d=\"M 31.8 106.036364 \nL 366.6 106.036364 \n\" style=\"fill: none; stroke: #000000; stroke-width: 0.8; stroke-linejoin: miter; stroke-linecap: square\"/>\n   </g>\n   <g id=\"patch_6\">\n    <path d=\"M 31.8 7.2 \nL 366.6 7.2 \n\" style=\"fill: none; stroke: #000000; stroke-width: 0.8; stroke-linejoin: miter; stroke-linecap: square\"/>\n   </g>\n  </g>\n </g>\n <defs>\n  <clipPath id=\"p028c1a6a46\">\n   <rect x=\"31.8\" y=\"7.2\" width=\"334.8\" height=\"98.836364\"/>\n  </clipPath>\n </defs>\n</svg>\n",
      "text/plain": [
       "<Figure size 432x288 with 1 Axes>"
      ]
     },
     "metadata": {},
     "output_type": "display_data"
    }
   ],
   "source": [
    "import pylab\n",
    "import matplotlib.pyplot as plt\n",
    "\n",
    "def million():\n",
    "  return pow(10,6)\n",
    "\n",
    "x = [i for i in range(100, 100* million(), million())]\n",
    "y = [costFunction(i) for i in x]\n",
    "\n",
    "fig = plt.figure()\n",
    "ax = fig.add_subplot(2, 1, 1)\n",
    "\n",
    "line, = ax.plot(x, y, color='blue', lw=2)\n",
    "\n",
    "ax.set_xscale('log')\n",
    "ax.set_yscale('log')\n",
    "\n",
    "pylab.show()"
   ]
  },
  {
   "cell_type": "markdown",
   "metadata": {
    "id": "aY2GDY3sle0c"
   },
   "source": [
    "## Add decision nodes"
   ]
  },
  {
   "cell_type": "markdown",
   "metadata": {
    "id": "uSTmYfv1myDB"
   },
   "source": [
    "### Helper functions"
   ]
  },
  {
   "cell_type": "code",
   "execution_count": 220,
   "metadata": {
    "executionInfo": {
     "elapsed": 350,
     "status": "ok",
     "timestamp": 1649885483481,
     "user": {
      "displayName": "Gaetano Perrone",
      "userId": "04518690982825853831"
     },
     "user_tz": -120
    },
    "id": "VR2s3p2Km0sE"
   },
   "outputs": [],
   "source": [
    "import os\n",
    "import csv\n",
    "%matplotlib inline\n",
    "from pylab import *\n",
    "import matplotlib.pyplot as plt\n",
    "from IPython.display import display,HTML\n",
    "import math\n",
    "import pyAgrum as gum\n",
    "import pyAgrum.lib.notebook as gnb\n",
    "import sys\n",
    "# print(vertices)\n",
    "##################### Helper functions\n",
    "def get_tid(row):\n",
    "  return row[2]\n",
    "def get_sc(row):\n",
    "  return row[0]\n",
    "def get_sc_descr(row):\n",
    "  return row[1]\n",
    "\n",
    "def add_sc_decision_node(diag, sc, descr, scList):\n",
    "  try:\n",
    "    diag.addDecisionNode(gum.LabelizedVariable(sc, descr, 2))\n",
    "    scList.append(sc)\n",
    "  except Exception as e:\n",
    "        print(\"ERROR\")\n",
    "        print(e)\n",
    "        pass\n",
    "  return scList\n",
    "\n",
    "\n",
    "# def tid_graph_list(vertices):\n",
    "#   # Returns the list of tid in threat graph\n",
    "#   tidIndex = {}\n",
    "#   for v in vertices:\n",
    "\n",
    "\n",
    "#   return list(tidIndex.keys())\n",
    "\n",
    "def add_decision_arcs(diag, tidToSc):\n",
    "  threats = Vertex.get_threats(vertices)\n",
    "  for tid in tidToSc.keys():\n",
    "    for elem in tidToSc[tid]:\n",
    "      #TO DO: add decision node here with try catch or appropriate control\n",
    "      for t in threats:\n",
    "        if tid == t.tid_id:\n",
    "          diag.addArc(elem, t.get_name())\n"
   ]
  },
  {
   "cell_type": "markdown",
   "metadata": {
    "id": "WG9Sz8x0m-wr"
   },
   "source": [
    "## Calculate decision network"
   ]
  },
  {
   "cell_type": "code",
   "execution_count": 221,
   "metadata": {
    "colab": {
     "base_uri": "https://localhost:8080/",
     "height": 561
    },
    "executionInfo": {
     "elapsed": 376,
     "status": "ok",
     "timestamp": 1649885353526,
     "user": {
      "displayName": "Gaetano Perrone",
      "userId": "04518690982825853831"
     },
     "user_tz": -120
    },
    "id": "wC9kEA60C_0h",
    "outputId": "33302baa-fe0e-43b3-d2b1-628deea57ebc"
   },
   "outputs": [
    {
     "ename": "NotFound",
     "evalue": "[pyAgrum] Object not found: No element with the key <6>",
     "output_type": "error",
     "traceback": [
      "\u001b[0;31m---------------------------------------------------------------------------\u001b[0m",
      "\u001b[0;31mNotFound\u001b[0m                                  Traceback (most recent call last)",
      "\u001b[1;32m/Users/gx1/git/unina/software/InsiderThreats/inference_diagram/AG_BAG_BDN.ipynb Cell 17'\u001b[0m in \u001b[0;36m<cell line: 61>\u001b[0;34m()\u001b[0m\n\u001b[1;32m     <a href='vscode-notebook-cell:/Users/gx1/git/unina/software/InsiderThreats/inference_diagram/AG_BAG_BDN.ipynb#ch0000016?line=56'>57</a>\u001b[0m \u001b[39mfor\u001b[39;00m sc \u001b[39min\u001b[39;00m relevant_sc: \n\u001b[1;32m     <a href='vscode-notebook-cell:/Users/gx1/git/unina/software/InsiderThreats/inference_diagram/AG_BAG_BDN.ipynb#ch0000016?line=57'>58</a>\u001b[0m   \u001b[39m# fn(diag, sc, sc_descr)\u001b[39;00m\n\u001b[1;32m     <a href='vscode-notebook-cell:/Users/gx1/git/unina/software/InsiderThreats/inference_diagram/AG_BAG_BDN.ipynb#ch0000016?line=58'>59</a>\u001b[0m   scList \u001b[39m=\u001b[39m add_sc_decision_node(diag, sc, security_controls[sc], scList)\n\u001b[0;32m---> <a href='vscode-notebook-cell:/Users/gx1/git/unina/software/InsiderThreats/inference_diagram/AG_BAG_BDN.ipynb#ch0000016?line=60'>61</a>\u001b[0m add_decision_arcs(diag, tidToSc)\n\u001b[1;32m     <a href='vscode-notebook-cell:/Users/gx1/git/unina/software/InsiderThreats/inference_diagram/AG_BAG_BDN.ipynb#ch0000016?line=61'>62</a>\u001b[0m diag\n",
      "\u001b[1;32m/Users/gx1/git/unina/software/InsiderThreats/inference_diagram/AG_BAG_BDN.ipynb Cell 15'\u001b[0m in \u001b[0;36madd_decision_arcs\u001b[0;34m(diag, tidToSc)\u001b[0m\n\u001b[1;32m     <a href='vscode-notebook-cell:/Users/gx1/git/unina/software/InsiderThreats/inference_diagram/AG_BAG_BDN.ipynb#ch0000014?line=43'>44</a>\u001b[0m \u001b[39mfor\u001b[39;00m t \u001b[39min\u001b[39;00m threats:\n\u001b[1;32m     <a href='vscode-notebook-cell:/Users/gx1/git/unina/software/InsiderThreats/inference_diagram/AG_BAG_BDN.ipynb#ch0000014?line=44'>45</a>\u001b[0m   \u001b[39mif\u001b[39;00m tid \u001b[39m==\u001b[39m t\u001b[39m.\u001b[39mtid_id:\n\u001b[0;32m---> <a href='vscode-notebook-cell:/Users/gx1/git/unina/software/InsiderThreats/inference_diagram/AG_BAG_BDN.ipynb#ch0000014?line=45'>46</a>\u001b[0m     diag\u001b[39m.\u001b[39;49maddArc(elem, t\u001b[39m.\u001b[39;49mid)\n",
      "File \u001b[0;32m/opt/homebrew/lib/python3.9/site-packages/pyAgrum/pyAgrum.py:23597\u001b[0m, in \u001b[0;36mInfluenceDiagram.addArc\u001b[0;34m(self, *args)\u001b[0m\n\u001b[1;32m  <a href='file:///opt/homebrew/lib/python3.9/site-packages/pyAgrum/pyAgrum.py?line=23576'>23577</a>\u001b[0m \u001b[39mdef\u001b[39;00m \u001b[39maddArc\u001b[39m(\u001b[39mself\u001b[39m, \u001b[39m*\u001b[39margs) \u001b[39m-\u001b[39m\u001b[39m>\u001b[39m \u001b[39mNone\u001b[39;00m:\n\u001b[1;32m  <a href='file:///opt/homebrew/lib/python3.9/site-packages/pyAgrum/pyAgrum.py?line=23577'>23578</a>\u001b[0m     \u001b[39mr\u001b[39m\u001b[39m\"\"\"\u001b[39;00m\n\u001b[1;32m  <a href='file:///opt/homebrew/lib/python3.9/site-packages/pyAgrum/pyAgrum.py?line=23578'>23579</a>\u001b[0m \n\u001b[1;32m  <a href='file:///opt/homebrew/lib/python3.9/site-packages/pyAgrum/pyAgrum.py?line=23579'>23580</a>\u001b[0m \u001b[39m    Add an arc in the ID, and update diagram's potential nodes cpt if necessary.\u001b[39;00m\n\u001b[0;32m   (...)\u001b[0m\n\u001b[1;32m  <a href='file:///opt/homebrew/lib/python3.9/site-packages/pyAgrum/pyAgrum.py?line=23594'>23595</a>\u001b[0m \n\u001b[1;32m  <a href='file:///opt/homebrew/lib/python3.9/site-packages/pyAgrum/pyAgrum.py?line=23595'>23596</a>\u001b[0m \u001b[39m    \"\"\"\u001b[39;00m\n\u001b[0;32m> <a href='file:///opt/homebrew/lib/python3.9/site-packages/pyAgrum/pyAgrum.py?line=23596'>23597</a>\u001b[0m     \u001b[39mreturn\u001b[39;00m _pyAgrum\u001b[39m.\u001b[39;49mInfluenceDiagram_addArc(\u001b[39mself\u001b[39;49m, \u001b[39m*\u001b[39;49margs)\n",
      "\u001b[0;31mNotFound\u001b[0m: [pyAgrum] Object not found: No element with the key <6>"
     ]
    }
   ],
   "source": [
    "\n",
    "\n",
    "#import bayesian attack graph\n",
    "diag=gum.loadID(\"output.bifxml\")\n",
    "# Bayesian graph generation\n",
    "#gnb.showInfluenceDiagram(diag)\n",
    "\n",
    "# #take vertices information from csv file \n",
    "# with open(VERTICES_FILE) as csv_file:\n",
    "#   csv_reader = csv.reader(csv_file, delimiter=',')\n",
    "#   for row in csv_reader:\n",
    "#     int(row[0])\n",
    "#     if row[2] == \"LEAF\":\n",
    "#       if \"tid\" in row[1]:\n",
    "#         row[1] = re.sub(\"\\(.*?\\)\",\"\", row[1])\n",
    "#         if row[1] in tidIndex.keys():\n",
    "#           pass\n",
    "#         else:\n",
    "#           tidIndex[row[1]] = row[0]\n",
    "#     else:\n",
    "#       vertices.append(row)\n",
    "\n",
    "\n",
    "\n",
    "scList = []\n",
    "relevant_sc = []\n",
    "\n",
    "def init_security_controls():\n",
    "  security_controls = {}\n",
    "  tidToSc = {}\n",
    "  #take SC information from csv file \n",
    "  with open(folder_data(SC_ASSOCIATION_FILE)) as csv_file:\n",
    "    csv_reader = csv.reader(csv_file, delimiter=',')\n",
    "    for row in csv_reader:\n",
    "      tid_list = get_tid(row).split(',')\n",
    "      security_controls[get_sc(row)] = get_sc_descr(row)\n",
    "\n",
    "      threats = Vertex.get_threats(vertices)\n",
    "    \n",
    "      #diag.addDecisionNode(gum.LabelizedVariable(row[0],row[1],2))\n",
    "      #scList.append(row[0])\n",
    "      for elem in tid_list:\n",
    "          for t in threats: \n",
    "            if elem == t.tid_id:\n",
    "              if elem in tidToSc.keys():\n",
    "                tidToSc[elem].append(get_sc(row))\n",
    "              else:\n",
    "                tidToSc[elem] = []\n",
    "                tidToSc[elem].append(get_sc(row))\n",
    "\n",
    "  return security_controls, tidToSc\n",
    "\n",
    "\n",
    "security_controls, tidToSc = init_security_controls()\n",
    "for list_sc in tidToSc.values():\n",
    "  relevant_sc.extend(list_sc)\n",
    "\n",
    "relevant_sc = list(set(relevant_sc))\n",
    "for sc in relevant_sc: \n",
    "  # fn(diag, sc, sc_descr)\n",
    "  scList = add_sc_decision_node(diag, sc, security_controls[sc], scList)\n",
    "\n",
    "add_decision_arcs(diag, tidToSc)\n",
    "diag\n",
    "\n",
    "\n",
    "\n"
   ]
  },
  {
   "cell_type": "markdown",
   "metadata": {
    "id": "QWg1AlGrlaR3"
   },
   "source": [
    "## Add utility node (TBD)"
   ]
  },
  {
   "cell_type": "code",
   "execution_count": null,
   "metadata": {
    "id": "J196i7MXlciH"
   },
   "outputs": [],
   "source": [
    "incremental = 1 \n",
    "for tid in tidToSc.keys():\n",
    "  for elem in tidToSc[tid]:\n",
    "    #TO DO: add decision node here with try catch or appropriate control\n",
    "    if tid in tidIndex.keys():\n",
    "      diag.addUtilityNode(gum.LabelizedVariable(\"Utility \" + str(incremental),\"Utility \" + elem[0] + \" \" + tidIndex[tid], 1))\n",
    "#      diag.addArc(elem, tidIndex[tid])\n",
    "      diag.addArc(elem, \"Utility \" + str(incremental))\n",
    "      diag.addArc(tidIndex[tid], \"Utility \" + str(incremental))\n",
    "      \n",
    "      #TO DO: add right value to utility table\n",
    "      diag.utility(\"Utility \" + str(incremental))[{elem[0]:1, tidIndex[tid]:0}]=10000\n",
    "      diag.utility(\"Utility \" + str(incremental))[{elem[0]:1, tidIndex[tid]:1}]=100000\n",
    "      diag.utility(\"Utility \" + str(incremental))[{elem[0]:0, tidIndex[tid]:0}]=0\n",
    "      diag.utility(\"Utility \" + str(incremental))[{elem[0]:0, tidIndex[tid]:1}]=0\n",
    "      incremental = incremental + 1\n",
    "\n",
    "#print(scList)\n",
    "ie=gum.ShaferShenoyLIMIDInference(diag)\n",
    "try:\n",
    "    ie.makeInference()\n",
    "except gum.GumException as e:\n",
    "    print(e)\n",
    "ie.addNoForgettingAssumption(relevant_sc)\n",
    "gnb.showInference(ie.reducedLIMID(), size=\"100!\")\n",
    "#gnb.sideBySide(ie.reducedLIMID(),ie.junctionTree(),gnb.getInference(diag,engine=ie))\n",
    "#print(tidToSc.keys())\n",
    "#gnb.showInference(diag, engine=ie, size=\"100!\")\n",
    "#gnb.showInference(diag, engine=ie, size=\"100!\")\n",
    "#set CIS_04 decision as False\n",
    "#gnb.showInference(diag,engine=ie,size=\"20!\")\n",
    "#ie.MEU()\n",
    "#gnb.showInfluenceDiagram(diag,size=\"20!\")\n",
    "#print(tidToSc)\n",
    "#print(tidIndex)\n",
    "#gnb.showInfluenceDiagram(ie.junctionTree(),size=\"20!\")\n",
    "#gnb.showInference(diag)\n"
   ]
  },
  {
   "cell_type": "code",
   "execution_count": null,
   "metadata": {
    "colab": {
     "base_uri": "https://localhost:8080/"
    },
    "executionInfo": {
     "elapsed": 379,
     "status": "ok",
     "timestamp": 1649864389297,
     "user": {
      "displayName": "Gaetano Perrone",
      "userId": "04518690982825853831"
     },
     "user_tz": -120
    },
    "id": "PPj94kxQY7bJ",
    "outputId": "cf74505e-9b3f-4adf-83b8-6effccf1203f"
   },
   "outputs": [
    {
     "data": {
      "text/plain": [
       "<pyAgrum.pyAgrum.VariableElimination; proxy of <Swig Object of type 'gum::VariableElimination< double > *' at 0x7f7cabfcf060> >"
      ]
     },
     "execution_count": 31,
     "metadata": {},
     "output_type": "execute_result"
    }
   ],
   "source": [
    "import csv\n",
    "import pyAgrum as gum\n",
    "import pyAgrum.lib.notebook as gnb\n",
    "import re\n",
    "import itertools\n",
    "\n",
    "diag=gum.loadBN(\"output.bifxml\")\n",
    "\n",
    "gum.VariableElimination(diag)"
   ]
  }
 ],
 "metadata": {
  "colab": {
   "collapsed_sections": [],
   "name": "gx1_AG_BAG_BDN.ipynb",
   "provenance": [
    {
     "file_id": "1w0N81n98iAXbGAi0SU5WhSNWUTIlTivk",
     "timestamp": 1649868473886
    }
   ]
  },
  "kernelspec": {
   "display_name": "Python 3 (ipykernel)",
   "language": "python",
   "name": "python3"
  },
  "language_info": {
   "codemirror_mode": {
    "name": "ipython",
    "version": 3
   },
   "file_extension": ".py",
   "mimetype": "text/x-python",
   "name": "python",
   "nbconvert_exporter": "python",
   "pygments_lexer": "ipython3",
   "version": "3.9.12"
  }
 },
 "nbformat": 4,
 "nbformat_minor": 1
}
